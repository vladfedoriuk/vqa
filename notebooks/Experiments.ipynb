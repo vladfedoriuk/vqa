{
 "cells": [
  {
   "cell_type": "code",
   "execution_count": null,
   "outputs": [],
   "source": [
    "from config.env import HF_DATASETS_CACHE, SAVE_ARTIFACTS_PATH\n",
    "\n",
    "HF_DATASETS_CACHE, SAVE_ARTIFACTS_PATH"
   ],
   "metadata": {
    "collapsed": false
   }
  },
  {
   "cell_type": "code",
   "execution_count": null,
   "outputs": [],
   "source": [
    "!PYTHONPATH=/home/z1158649/vqa python /home/z1158649/vqa/experiments/fusion.py \\\n",
    "      --image-encoder-backbone \"microsoft/beit-base-patch16-224-pt22k\" \\\n",
    "      --text-encoder-backbone \"distilbert-base-uncased\" \\\n",
    "      --fusion \"deep-set-fusion\" \\\n",
    "      --dataset \"daquar\""
   ],
   "metadata": {
    "collapsed": false
   }
  }
 ],
 "metadata": {
  "kernelspec": {
   "display_name": "Python 3 (ipykernel)",
   "language": "python",
   "name": "python3"
  },
  "language_info": {
   "codemirror_mode": {
    "name": "ipython",
    "version": 3
   },
   "file_extension": ".py",
   "mimetype": "text/x-python",
   "name": "python",
   "nbconvert_exporter": "python",
   "pygments_lexer": "ipython3",
   "version": "3.10.8"
  }
 },
 "nbformat": 4,
 "nbformat_minor": 1
}
