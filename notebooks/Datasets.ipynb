{
 "cells": [
  {
   "cell_type": "code",
   "execution_count": 1,
   "outputs": [
    {
     "data": {
      "text/plain": "''"
     },
     "execution_count": 1,
     "metadata": {},
     "output_type": "execute_result"
    }
   ],
   "source": [
    "# from datasets import load_dataset\n",
    "\n",
    "# Load the dataset\n",
    "# dataset = load_dataset(\"Multimodal-Fatima/VQAv2_sample_train\")\n",
    "from datasets import load_dataset_builder\n",
    "ds_builder = load_dataset_builder(\"Multimodal-Fatima/VQAv2_sample_train\")\n",
    "\n",
    "ds_builder.info.description"
   ],
   "metadata": {
    "collapsed": false
   }
  },
  {
   "cell_type": "code",
   "execution_count": 2,
   "outputs": [
    {
     "data": {
      "text/plain": "{'question_type': Value(dtype='string', id=None),\n 'multiple_choice_answer': Value(dtype='string', id=None),\n 'answers': Sequence(feature=Value(dtype='string', id=None), length=-1, id=None),\n 'answers_original': [{'answer': Value(dtype='string', id=None),\n   'answer_confidence': Value(dtype='string', id=None),\n   'answer_id': Value(dtype='int64', id=None)}],\n 'id_image': Value(dtype='int64', id=None),\n 'answer_type': Value(dtype='string', id=None),\n 'question_id': Value(dtype='int64', id=None),\n 'question': Value(dtype='string', id=None),\n 'image': Image(decode=True, id=None),\n 'id': Value(dtype='int64', id=None),\n 'clip_tags_ViT_L_14': Sequence(feature=Value(dtype='string', id=None), length=-1, id=None),\n 'blip_caption': Value(dtype='string', id=None),\n 'DETA_detections_deta_swin_large_o365_coco_classes': [{'attribute': Value(dtype='string', id=None),\n   'box': Sequence(feature=Value(dtype='float32', id=None), length=-1, id=None),\n   'label': Value(dtype='string', id=None),\n   'location': Value(dtype='string', id=None),\n   'ratio': Value(dtype='float32', id=None),\n   'size': Value(dtype='string', id=None),\n   'tag': Value(dtype='string', id=None)}]}"
     },
     "execution_count": 2,
     "metadata": {},
     "output_type": "execute_result"
    }
   ],
   "source": [
    "ds_builder.info.features"
   ],
   "metadata": {
    "collapsed": false
   }
  },
  {
   "cell_type": "code",
   "execution_count": 3,
   "outputs": [
    {
     "data": {
      "text/plain": "['train']"
     },
     "execution_count": 3,
     "metadata": {},
     "output_type": "execute_result"
    }
   ],
   "source": [
    "from datasets import get_dataset_split_names\n",
    "\n",
    "get_dataset_split_names(\"Multimodal-Fatima/VQAv2_sample_train\")"
   ],
   "metadata": {
    "collapsed": false
   }
  },
  {
   "cell_type": "code",
   "execution_count": 4,
   "outputs": [
    {
     "data": {
      "text/plain": "['Multimodal-Fatima--VQAv2_sample_train']"
     },
     "execution_count": 4,
     "metadata": {},
     "output_type": "execute_result"
    }
   ],
   "source": [
    "from datasets import get_dataset_config_names\n",
    "\n",
    "configs = get_dataset_config_names(\"Multimodal-Fatima/VQAv2_sample_train\")\n",
    "configs"
   ],
   "metadata": {
    "collapsed": false
   }
  },
  {
   "cell_type": "code",
   "execution_count": 5,
   "outputs": [
    {
     "name": "stderr",
     "output_type": "stream",
     "text": [
      "Found cached dataset parquet (/home/vlad/.cache/huggingface/datasets/Multimodal-Fatima___parquet/Multimodal-Fatima--VQAv2_sample_train-ac3deef7369717ba/0.0.0/2a3b91fbd88a2c90d1dbbb32b460cf621d31bd5b05b934492fdef7d8d6f236ec)\n"
     ]
    }
   ],
   "source": [
    "from datasets import load_dataset\n",
    "\n",
    "dataset = load_dataset(\"Multimodal-Fatima/VQAv2_sample_train\", split=\"train\")"
   ],
   "metadata": {
    "collapsed": false
   }
  },
  {
   "cell_type": "code",
   "execution_count": 6,
   "outputs": [
    {
     "data": {
      "text/plain": "'Visual Genome enable to model objects and relationships between objects.\\nThey collect dense annotations of objects, attributes, and relationships within each image.\\nSpecifically, the dataset contains over 108K images where each image has an average of 35 objects, 26 attributes, and 21 pairwise relationships between objects.\\n'"
     },
     "execution_count": 6,
     "metadata": {},
     "output_type": "execute_result"
    }
   ],
   "source": [
    "ds_builder = load_dataset_builder(\"visual_genome\", \"question_answers_v1.2.0\")\n",
    "\n",
    "ds_builder.info.description"
   ],
   "metadata": {
    "collapsed": false
   }
  },
  {
   "cell_type": "code",
   "execution_count": 7,
   "outputs": [
    {
     "data": {
      "text/plain": "{'image': Image(decode=True, id=None),\n 'image_id': Value(dtype='int32', id=None),\n 'url': Value(dtype='string', id=None),\n 'width': Value(dtype='int32', id=None),\n 'height': Value(dtype='int32', id=None),\n 'coco_id': Value(dtype='int64', id=None),\n 'flickr_id': Value(dtype='int64', id=None),\n 'qas': [{'qa_id': Value(dtype='int32', id=None),\n   'image_id': Value(dtype='int32', id=None),\n   'question': Value(dtype='string', id=None),\n   'answer': Value(dtype='string', id=None),\n   'a_objects': [{'object_id': Value(dtype='int32', id=None),\n     'x': Value(dtype='int32', id=None),\n     'y': Value(dtype='int32', id=None),\n     'w': Value(dtype='int32', id=None),\n     'h': Value(dtype='int32', id=None),\n     'names': [Value(dtype='string', id=None)],\n     'synsets': [Value(dtype='string', id=None)]}],\n   'q_objects': [{'object_id': Value(dtype='int32', id=None),\n     'x': Value(dtype='int32', id=None),\n     'y': Value(dtype='int32', id=None),\n     'w': Value(dtype='int32', id=None),\n     'h': Value(dtype='int32', id=None),\n     'names': [Value(dtype='string', id=None)],\n     'synsets': [Value(dtype='string', id=None)]}]}]}"
     },
     "execution_count": 7,
     "metadata": {},
     "output_type": "execute_result"
    }
   ],
   "source": [
    "ds_builder.info.features"
   ],
   "metadata": {
    "collapsed": false
   }
  },
  {
   "cell_type": "code",
   "execution_count": 8,
   "outputs": [
    {
     "ename": "SplitsNotFoundError",
     "evalue": "The split names could not be parsed from the dataset config.",
     "output_type": "error",
     "traceback": [
      "\u001B[0;31m---------------------------------------------------------------------------\u001B[0m",
      "\u001B[0;31mAttributeError\u001B[0m                            Traceback (most recent call last)",
      "File \u001B[0;32m~/.pyenv/versions/vqa/lib/python3.10/site-packages/datasets/inspect.py:388\u001B[0m, in \u001B[0;36mget_dataset_config_info\u001B[0;34m(path, config_name, data_files, download_config, download_mode, revision, use_auth_token, **config_kwargs)\u001B[0m\n\u001B[1;32m    385\u001B[0m \u001B[38;5;28;01mtry\u001B[39;00m:\n\u001B[1;32m    386\u001B[0m     info\u001B[38;5;241m.\u001B[39msplits \u001B[38;5;241m=\u001B[39m {\n\u001B[1;32m    387\u001B[0m         split_generator\u001B[38;5;241m.\u001B[39mname: {\u001B[38;5;124m\"\u001B[39m\u001B[38;5;124mname\u001B[39m\u001B[38;5;124m\"\u001B[39m: split_generator\u001B[38;5;241m.\u001B[39mname, \u001B[38;5;124m\"\u001B[39m\u001B[38;5;124mdataset_name\u001B[39m\u001B[38;5;124m\"\u001B[39m: path}\n\u001B[0;32m--> 388\u001B[0m         \u001B[38;5;28;01mfor\u001B[39;00m split_generator \u001B[38;5;129;01min\u001B[39;00m \u001B[43mbuilder\u001B[49m\u001B[38;5;241;43m.\u001B[39;49m\u001B[43m_split_generators\u001B[49m\u001B[43m(\u001B[49m\n\u001B[1;32m    389\u001B[0m \u001B[43m            \u001B[49m\u001B[43mStreamingDownloadManager\u001B[49m\u001B[43m(\u001B[49m\u001B[43mbase_path\u001B[49m\u001B[38;5;241;43m=\u001B[39;49m\u001B[43mbuilder\u001B[49m\u001B[38;5;241;43m.\u001B[39;49m\u001B[43mbase_path\u001B[49m\u001B[43m,\u001B[49m\u001B[43m \u001B[49m\u001B[43mdownload_config\u001B[49m\u001B[38;5;241;43m=\u001B[39;49m\u001B[43mdownload_config\u001B[49m\u001B[43m)\u001B[49m\n\u001B[1;32m    390\u001B[0m \u001B[43m        \u001B[49m\u001B[43m)\u001B[49m\n\u001B[1;32m    391\u001B[0m     }\n\u001B[1;32m    392\u001B[0m \u001B[38;5;28;01mexcept\u001B[39;00m \u001B[38;5;167;01mException\u001B[39;00m \u001B[38;5;28;01mas\u001B[39;00m err:\n",
      "File \u001B[0;32m~/.cache/huggingface/modules/datasets_modules/datasets/visual_genome/136fe5b83f6691884566c5530313288171e053a3b33bfe3ea2e4c8b39abaf7f3/visual_genome.py:377\u001B[0m, in \u001B[0;36mVisualGenome._split_generators\u001B[0;34m(self, dl_manager)\u001B[0m\n\u001B[1;32m    375\u001B[0m \u001B[38;5;28;01mdef\u001B[39;00m \u001B[38;5;21m_split_generators\u001B[39m(\u001B[38;5;28mself\u001B[39m, dl_manager):\n\u001B[1;32m    376\u001B[0m     \u001B[38;5;66;03m# Download image meta datas.\u001B[39;00m\n\u001B[0;32m--> 377\u001B[0m     image_metadatas_dir \u001B[38;5;241m=\u001B[39m dl_manager\u001B[38;5;241m.\u001B[39mdownload_and_extract(\u001B[38;5;28;43mself\u001B[39;49m\u001B[38;5;241;43m.\u001B[39;49m\u001B[43mconfig\u001B[49m\u001B[38;5;241;43m.\u001B[39;49m\u001B[43mimage_metadata_url\u001B[49m)\n\u001B[1;32m    378\u001B[0m     image_metadatas_file \u001B[38;5;241m=\u001B[39m os\u001B[38;5;241m.\u001B[39mpath\u001B[38;5;241m.\u001B[39mjoin(\n\u001B[1;32m    379\u001B[0m         image_metadatas_dir, _get_decompressed_filename_from_url(\u001B[38;5;28mself\u001B[39m\u001B[38;5;241m.\u001B[39mconfig\u001B[38;5;241m.\u001B[39mimage_metadata_url)\n\u001B[1;32m    380\u001B[0m     )\n",
      "File \u001B[0;32m~/.cache/huggingface/modules/datasets_modules/datasets/visual_genome/136fe5b83f6691884566c5530313288171e053a3b33bfe3ea2e4c8b39abaf7f3/visual_genome.py:328\u001B[0m, in \u001B[0;36mVisualGenomeConfig.image_metadata_url\u001B[0;34m(self)\u001B[0m\n\u001B[1;32m    326\u001B[0m \u001B[38;5;129m@property\u001B[39m\n\u001B[1;32m    327\u001B[0m \u001B[38;5;28;01mdef\u001B[39;00m \u001B[38;5;21mimage_metadata_url\u001B[39m(\u001B[38;5;28mself\u001B[39m):\n\u001B[0;32m--> 328\u001B[0m     \u001B[38;5;28;01mif\u001B[39;00m \u001B[38;5;129;01mnot\u001B[39;00m \u001B[38;5;28;43mself\u001B[39;49m\u001B[38;5;241;43m.\u001B[39;49m\u001B[43mversion\u001B[49m\u001B[38;5;241;43m.\u001B[39;49m\u001B[43mmatch\u001B[49m(_LATEST_VERSIONS[\u001B[38;5;124m\"\u001B[39m\u001B[38;5;124mimage_metadata\u001B[39m\u001B[38;5;124m\"\u001B[39m]):\n\u001B[1;32m    329\u001B[0m         logger\u001B[38;5;241m.\u001B[39mwarning(\n\u001B[1;32m    330\u001B[0m             \u001B[38;5;124mf\u001B[39m\u001B[38;5;124m\"\u001B[39m\u001B[38;5;124mLatest image metadata version is \u001B[39m\u001B[38;5;132;01m{\u001B[39;00m_LATEST_VERSIONS[\u001B[38;5;124m'\u001B[39m\u001B[38;5;124mimage_metadata\u001B[39m\u001B[38;5;124m'\u001B[39m]\u001B[38;5;132;01m}\u001B[39;00m\u001B[38;5;124m. Trying to generate a dataset of version: \u001B[39m\u001B[38;5;132;01m{\u001B[39;00m\u001B[38;5;28mself\u001B[39m\u001B[38;5;241m.\u001B[39mversion\u001B[38;5;132;01m}\u001B[39;00m\u001B[38;5;124m. Please double check that image data are unchanged between the two versions.\u001B[39m\u001B[38;5;124m\"\u001B[39m\n\u001B[1;32m    331\u001B[0m         )\n",
      "\u001B[0;31mAttributeError\u001B[0m: 'Version' object has no attribute 'match'",
      "\nThe above exception was the direct cause of the following exception:\n",
      "\u001B[0;31mSplitsNotFoundError\u001B[0m                       Traceback (most recent call last)",
      "Cell \u001B[0;32mIn[8], line 3\u001B[0m\n\u001B[1;32m      1\u001B[0m \u001B[38;5;28;01mfrom\u001B[39;00m \u001B[38;5;21;01mdatasets\u001B[39;00m \u001B[38;5;28;01mimport\u001B[39;00m get_dataset_split_names\n\u001B[0;32m----> 3\u001B[0m \u001B[43mget_dataset_split_names\u001B[49m\u001B[43m(\u001B[49m\u001B[38;5;124;43m\"\u001B[39;49m\u001B[38;5;124;43mvisual_genome\u001B[39;49m\u001B[38;5;124;43m\"\u001B[39;49m\u001B[43m,\u001B[49m\u001B[43m \u001B[49m\u001B[38;5;124;43m\"\u001B[39;49m\u001B[38;5;124;43mquestion_answers_v1.2.0\u001B[39;49m\u001B[38;5;124;43m\"\u001B[39;49m\u001B[43m)\u001B[49m\n",
      "File \u001B[0;32m~/.pyenv/versions/vqa/lib/python3.10/site-packages/datasets/inspect.py:442\u001B[0m, in \u001B[0;36mget_dataset_split_names\u001B[0;34m(path, config_name, data_files, download_config, download_mode, revision, use_auth_token, **config_kwargs)\u001B[0m\n\u001B[1;32m    397\u001B[0m \u001B[38;5;28;01mdef\u001B[39;00m \u001B[38;5;21mget_dataset_split_names\u001B[39m(\n\u001B[1;32m    398\u001B[0m     path: \u001B[38;5;28mstr\u001B[39m,\n\u001B[1;32m    399\u001B[0m     config_name: Optional[\u001B[38;5;28mstr\u001B[39m] \u001B[38;5;241m=\u001B[39m \u001B[38;5;28;01mNone\u001B[39;00m,\n\u001B[0;32m   (...)\u001B[0m\n\u001B[1;32m    405\u001B[0m     \u001B[38;5;241m*\u001B[39m\u001B[38;5;241m*\u001B[39mconfig_kwargs,\n\u001B[1;32m    406\u001B[0m ):\n\u001B[1;32m    407\u001B[0m \u001B[38;5;250m    \u001B[39m\u001B[38;5;124;03m\"\"\"Get the list of available splits for a particular config and dataset.\u001B[39;00m\n\u001B[1;32m    408\u001B[0m \n\u001B[1;32m    409\u001B[0m \u001B[38;5;124;03m    Args:\u001B[39;00m\n\u001B[0;32m   (...)\u001B[0m\n\u001B[1;32m    440\u001B[0m \u001B[38;5;124;03m    ```\u001B[39;00m\n\u001B[1;32m    441\u001B[0m \u001B[38;5;124;03m    \"\"\"\u001B[39;00m\n\u001B[0;32m--> 442\u001B[0m     info \u001B[38;5;241m=\u001B[39m \u001B[43mget_dataset_config_info\u001B[49m\u001B[43m(\u001B[49m\n\u001B[1;32m    443\u001B[0m \u001B[43m        \u001B[49m\u001B[43mpath\u001B[49m\u001B[43m,\u001B[49m\n\u001B[1;32m    444\u001B[0m \u001B[43m        \u001B[49m\u001B[43mconfig_name\u001B[49m\u001B[38;5;241;43m=\u001B[39;49m\u001B[43mconfig_name\u001B[49m\u001B[43m,\u001B[49m\n\u001B[1;32m    445\u001B[0m \u001B[43m        \u001B[49m\u001B[43mdata_files\u001B[49m\u001B[38;5;241;43m=\u001B[39;49m\u001B[43mdata_files\u001B[49m\u001B[43m,\u001B[49m\n\u001B[1;32m    446\u001B[0m \u001B[43m        \u001B[49m\u001B[43mdownload_config\u001B[49m\u001B[38;5;241;43m=\u001B[39;49m\u001B[43mdownload_config\u001B[49m\u001B[43m,\u001B[49m\n\u001B[1;32m    447\u001B[0m \u001B[43m        \u001B[49m\u001B[43mdownload_mode\u001B[49m\u001B[38;5;241;43m=\u001B[39;49m\u001B[43mdownload_mode\u001B[49m\u001B[43m,\u001B[49m\n\u001B[1;32m    448\u001B[0m \u001B[43m        \u001B[49m\u001B[43mrevision\u001B[49m\u001B[38;5;241;43m=\u001B[39;49m\u001B[43mrevision\u001B[49m\u001B[43m,\u001B[49m\n\u001B[1;32m    449\u001B[0m \u001B[43m        \u001B[49m\u001B[43muse_auth_token\u001B[49m\u001B[38;5;241;43m=\u001B[39;49m\u001B[43muse_auth_token\u001B[49m\u001B[43m,\u001B[49m\n\u001B[1;32m    450\u001B[0m \u001B[43m        \u001B[49m\u001B[38;5;241;43m*\u001B[39;49m\u001B[38;5;241;43m*\u001B[39;49m\u001B[43mconfig_kwargs\u001B[49m\u001B[43m,\u001B[49m\n\u001B[1;32m    451\u001B[0m \u001B[43m    \u001B[49m\u001B[43m)\u001B[49m\n\u001B[1;32m    452\u001B[0m     \u001B[38;5;28;01mreturn\u001B[39;00m \u001B[38;5;28mlist\u001B[39m(info\u001B[38;5;241m.\u001B[39msplits\u001B[38;5;241m.\u001B[39mkeys())\n",
      "File \u001B[0;32m~/.pyenv/versions/vqa/lib/python3.10/site-packages/datasets/inspect.py:393\u001B[0m, in \u001B[0;36mget_dataset_config_info\u001B[0;34m(path, config_name, data_files, download_config, download_mode, revision, use_auth_token, **config_kwargs)\u001B[0m\n\u001B[1;32m    386\u001B[0m         info\u001B[38;5;241m.\u001B[39msplits \u001B[38;5;241m=\u001B[39m {\n\u001B[1;32m    387\u001B[0m             split_generator\u001B[38;5;241m.\u001B[39mname: {\u001B[38;5;124m\"\u001B[39m\u001B[38;5;124mname\u001B[39m\u001B[38;5;124m\"\u001B[39m: split_generator\u001B[38;5;241m.\u001B[39mname, \u001B[38;5;124m\"\u001B[39m\u001B[38;5;124mdataset_name\u001B[39m\u001B[38;5;124m\"\u001B[39m: path}\n\u001B[1;32m    388\u001B[0m             \u001B[38;5;28;01mfor\u001B[39;00m split_generator \u001B[38;5;129;01min\u001B[39;00m builder\u001B[38;5;241m.\u001B[39m_split_generators(\n\u001B[1;32m    389\u001B[0m                 StreamingDownloadManager(base_path\u001B[38;5;241m=\u001B[39mbuilder\u001B[38;5;241m.\u001B[39mbase_path, download_config\u001B[38;5;241m=\u001B[39mdownload_config)\n\u001B[1;32m    390\u001B[0m             )\n\u001B[1;32m    391\u001B[0m         }\n\u001B[1;32m    392\u001B[0m     \u001B[38;5;28;01mexcept\u001B[39;00m \u001B[38;5;167;01mException\u001B[39;00m \u001B[38;5;28;01mas\u001B[39;00m err:\n\u001B[0;32m--> 393\u001B[0m         \u001B[38;5;28;01mraise\u001B[39;00m SplitsNotFoundError(\u001B[38;5;124m\"\u001B[39m\u001B[38;5;124mThe split names could not be parsed from the dataset config.\u001B[39m\u001B[38;5;124m\"\u001B[39m) \u001B[38;5;28;01mfrom\u001B[39;00m \u001B[38;5;21;01merr\u001B[39;00m\n\u001B[1;32m    394\u001B[0m \u001B[38;5;28;01mreturn\u001B[39;00m info\n",
      "\u001B[0;31mSplitsNotFoundError\u001B[0m: The split names could not be parsed from the dataset config."
     ]
    }
   ],
   "source": [
    "from datasets import get_dataset_split_names\n",
    "\n",
    "get_dataset_split_names(\"visual_genome\", \"question_answers_v1.2.0\")"
   ],
   "metadata": {
    "collapsed": false
   }
  },
  {
   "cell_type": "code",
   "execution_count": null,
   "outputs": [],
   "source": [
    "from datasets import get_dataset_config_names\n",
    "\n",
    "configs = get_dataset_config_names(\"visual_genome\")\n",
    "configs"
   ],
   "metadata": {
    "collapsed": false
   }
  },
  {
   "cell_type": "code",
   "execution_count": null,
   "outputs": [],
   "source": [],
   "metadata": {
    "collapsed": false
   }
  }
 ],
 "metadata": {
  "kernelspec": {
   "display_name": "Python 3",
   "language": "python",
   "name": "python3"
  },
  "language_info": {
   "codemirror_mode": {
    "name": "ipython",
    "version": 2
   },
   "file_extension": ".py",
   "mimetype": "text/x-python",
   "name": "python",
   "nbconvert_exporter": "python",
   "pygments_lexer": "ipython2",
   "version": "2.7.6"
  }
 },
 "nbformat": 4,
 "nbformat_minor": 0
}
