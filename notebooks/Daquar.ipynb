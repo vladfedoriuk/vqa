{
 "cells": [
  {
   "cell_type": "code",
   "execution_count": 1,
   "metadata": {
    "collapsed": true,
    "ExecuteTime": {
     "end_time": "2023-05-03T16:42:29.866643915Z",
     "start_time": "2023-05-03T16:42:28.046412644Z"
    }
   },
   "outputs": [
    {
     "data": {
      "text/plain": "                                            question  \\\n0  what is on the right side of the black telepho...   \n1  what is in front of the white door on the left...   \n2                                what is on the desk   \n3                  what is the largest brown objects   \n4  what color is the chair in front of the white ...   \n\n                                  answer image_id  \n0                                   desk   image3  \n1                              telephone   image3  \n2  book, scissor, papers, tape_dispenser   image3  \n3                                 carton   image3  \n4                                    red   image3  ",
      "text/html": "<div>\n<style scoped>\n    .dataframe tbody tr th:only-of-type {\n        vertical-align: middle;\n    }\n\n    .dataframe tbody tr th {\n        vertical-align: top;\n    }\n\n    .dataframe thead th {\n        text-align: right;\n    }\n</style>\n<table border=\"1\" class=\"dataframe\">\n  <thead>\n    <tr style=\"text-align: right;\">\n      <th></th>\n      <th>question</th>\n      <th>answer</th>\n      <th>image_id</th>\n    </tr>\n  </thead>\n  <tbody>\n    <tr>\n      <th>0</th>\n      <td>what is on the right side of the black telepho...</td>\n      <td>desk</td>\n      <td>image3</td>\n    </tr>\n    <tr>\n      <th>1</th>\n      <td>what is in front of the white door on the left...</td>\n      <td>telephone</td>\n      <td>image3</td>\n    </tr>\n    <tr>\n      <th>2</th>\n      <td>what is on the desk</td>\n      <td>book, scissor, papers, tape_dispenser</td>\n      <td>image3</td>\n    </tr>\n    <tr>\n      <th>3</th>\n      <td>what is the largest brown objects</td>\n      <td>carton</td>\n      <td>image3</td>\n    </tr>\n    <tr>\n      <th>4</th>\n      <td>what color is the chair in front of the white ...</td>\n      <td>red</td>\n      <td>image3</td>\n    </tr>\n  </tbody>\n</table>\n</div>"
     },
     "execution_count": 1,
     "metadata": {},
     "output_type": "execute_result"
    }
   ],
   "source": [
    "import pandas as pd\n",
    "\n",
    "\n",
    "DAQUAR_PATH = \"../data/raw/daquar/data_train.csv\"\n",
    "\n",
    "daquar_train = pd.read_csv(DAQUAR_PATH)\n",
    "daquar_train.head()"
   ]
  },
  {
   "cell_type": "code",
   "execution_count": 2,
   "outputs": [
    {
     "data": {
      "text/plain": "question    6795\nanswer      6795\nimage_id    6795\ndtype: int64"
     },
     "execution_count": 2,
     "metadata": {},
     "output_type": "execute_result"
    }
   ],
   "source": [
    "daquar_train.count()"
   ],
   "metadata": {
    "collapsed": false,
    "ExecuteTime": {
     "end_time": "2023-05-03T16:42:29.901443267Z",
     "start_time": "2023-05-03T16:42:29.852757943Z"
    }
   }
  },
  {
   "cell_type": "code",
   "execution_count": 3,
   "outputs": [
    {
     "data": {
      "text/plain": "                                             question  \\\n2                                 what is on the desk   \n14  what is in front of the white board or in fron...   \n26  what are on the wall on the left side of the g...   \n72         what are the white objects on the mattress   \n74  what color is the hat on the top right of the ...   \n\n                                   answer image_id  \n2   book, scissor, papers, tape_dispenser   image3  \n14                           table, chair   image5  \n26                       clock, telephone   image8  \n72                        blanket, pillow  image73  \n74                           black, white  image80  ",
      "text/html": "<div>\n<style scoped>\n    .dataframe tbody tr th:only-of-type {\n        vertical-align: middle;\n    }\n\n    .dataframe tbody tr th {\n        vertical-align: top;\n    }\n\n    .dataframe thead th {\n        text-align: right;\n    }\n</style>\n<table border=\"1\" class=\"dataframe\">\n  <thead>\n    <tr style=\"text-align: right;\">\n      <th></th>\n      <th>question</th>\n      <th>answer</th>\n      <th>image_id</th>\n    </tr>\n  </thead>\n  <tbody>\n    <tr>\n      <th>2</th>\n      <td>what is on the desk</td>\n      <td>book, scissor, papers, tape_dispenser</td>\n      <td>image3</td>\n    </tr>\n    <tr>\n      <th>14</th>\n      <td>what is in front of the white board or in fron...</td>\n      <td>table, chair</td>\n      <td>image5</td>\n    </tr>\n    <tr>\n      <th>26</th>\n      <td>what are on the wall on the left side of the g...</td>\n      <td>clock, telephone</td>\n      <td>image8</td>\n    </tr>\n    <tr>\n      <th>72</th>\n      <td>what are the white objects on the mattress</td>\n      <td>blanket, pillow</td>\n      <td>image73</td>\n    </tr>\n    <tr>\n      <th>74</th>\n      <td>what color is the hat on the top right of the ...</td>\n      <td>black, white</td>\n      <td>image80</td>\n    </tr>\n  </tbody>\n</table>\n</div>"
     },
     "execution_count": 3,
     "metadata": {},
     "output_type": "execute_result"
    }
   ],
   "source": [
    "multiple_answers = daquar_train[daquar_train[\"answer\"].str.contains(\",\")]\n",
    "multiple_answers.head()"
   ],
   "metadata": {
    "collapsed": false,
    "ExecuteTime": {
     "end_time": "2023-05-03T16:42:29.905085297Z",
     "start_time": "2023-05-03T16:42:29.854720596Z"
    }
   }
  },
  {
   "cell_type": "code",
   "execution_count": 4,
   "outputs": [
    {
     "data": {
      "text/plain": "question    646\nanswer      646\nimage_id    646\ndtype: int64"
     },
     "execution_count": 4,
     "metadata": {},
     "output_type": "execute_result"
    }
   ],
   "source": [
    "multiple_answers.count()"
   ],
   "metadata": {
    "collapsed": false,
    "ExecuteTime": {
     "end_time": "2023-05-03T16:42:29.913478128Z",
     "start_time": "2023-05-03T16:42:29.855851273Z"
    }
   }
  },
  {
   "cell_type": "code",
   "execution_count": 5,
   "outputs": [
    {
     "data": {
      "text/plain": "                                            question  \\\n0  what is on the right side of the black telepho...   \n1  what is in front of the white door on the left...   \n2                                what is on the desk   \n2                                what is on the desk   \n2                                what is on the desk   \n\n                                  answer image_id  \n0                                   desk   image3  \n1                              telephone   image3  \n2  book, scissor, papers, tape_dispenser   image3  \n2  book, scissor, papers, tape_dispenser   image3  \n2  book, scissor, papers, tape_dispenser   image3  ",
      "text/html": "<div>\n<style scoped>\n    .dataframe tbody tr th:only-of-type {\n        vertical-align: middle;\n    }\n\n    .dataframe tbody tr th {\n        vertical-align: top;\n    }\n\n    .dataframe thead th {\n        text-align: right;\n    }\n</style>\n<table border=\"1\" class=\"dataframe\">\n  <thead>\n    <tr style=\"text-align: right;\">\n      <th></th>\n      <th>question</th>\n      <th>answer</th>\n      <th>image_id</th>\n    </tr>\n  </thead>\n  <tbody>\n    <tr>\n      <th>0</th>\n      <td>what is on the right side of the black telepho...</td>\n      <td>desk</td>\n      <td>image3</td>\n    </tr>\n    <tr>\n      <th>1</th>\n      <td>what is in front of the white door on the left...</td>\n      <td>telephone</td>\n      <td>image3</td>\n    </tr>\n    <tr>\n      <th>2</th>\n      <td>what is on the desk</td>\n      <td>book, scissor, papers, tape_dispenser</td>\n      <td>image3</td>\n    </tr>\n    <tr>\n      <th>2</th>\n      <td>what is on the desk</td>\n      <td>book, scissor, papers, tape_dispenser</td>\n      <td>image3</td>\n    </tr>\n    <tr>\n      <th>2</th>\n      <td>what is on the desk</td>\n      <td>book, scissor, papers, tape_dispenser</td>\n      <td>image3</td>\n    </tr>\n  </tbody>\n</table>\n</div>"
     },
     "execution_count": 5,
     "metadata": {},
     "output_type": "execute_result"
    }
   ],
   "source": [
    "new_df = daquar_train.iloc[daquar_train.index.repeat(daquar_train[\"answer\"].str.count(\",\") + 1)]\n",
    "new_df.head()"
   ],
   "metadata": {
    "collapsed": false,
    "ExecuteTime": {
     "end_time": "2023-05-03T16:42:29.927639551Z",
     "start_time": "2023-05-03T16:42:29.856357387Z"
    }
   }
  },
  {
   "cell_type": "code",
   "execution_count": 6,
   "outputs": [
    {
     "data": {
      "text/plain": "0             desk\n1        telephone\n2             book\n2          scissor\n2           papers\n           ...    \n6791        window\n6792       cabinet\n6793    candelabra\n6793          book\n6794         chair\nName: answer, Length: 7768, dtype: object"
     },
     "execution_count": 6,
     "metadata": {},
     "output_type": "execute_result"
    }
   ],
   "source": [
    "split_answer = daquar_train[\"answer\"].str.split(\",\", expand=True).stack().reset_index(level=1, drop=True).rename(\"answer\")\n",
    "split_answer"
   ],
   "metadata": {
    "collapsed": false,
    "ExecuteTime": {
     "end_time": "2023-05-03T16:42:29.936842137Z",
     "start_time": "2023-05-03T16:42:29.856813248Z"
    }
   }
  },
  {
   "cell_type": "code",
   "execution_count": 7,
   "outputs": [
    {
     "name": "stderr",
     "output_type": "stream",
     "text": [
      "/tmp/ipykernel_5590/1585816665.py:1: SettingWithCopyWarning: \n",
      "A value is trying to be set on a copy of a slice from a DataFrame.\n",
      "Try using .loc[row_indexer,col_indexer] = value instead\n",
      "\n",
      "See the caveats in the documentation: https://pandas.pydata.org/pandas-docs/stable/user_guide/indexing.html#returning-a-view-versus-a-copy\n",
      "  new_df.loc[:, \"answer\"] = split_answer.str.strip()\n"
     ]
    },
    {
     "data": {
      "text/plain": "                                            question     answer image_id\n0  what is on the right side of the black telepho...       desk   image3\n1  what is in front of the white door on the left...  telephone   image3\n2                                what is on the desk       book   image3\n3                                what is on the desk    scissor   image3\n4                                what is on the desk     papers   image3",
      "text/html": "<div>\n<style scoped>\n    .dataframe tbody tr th:only-of-type {\n        vertical-align: middle;\n    }\n\n    .dataframe tbody tr th {\n        vertical-align: top;\n    }\n\n    .dataframe thead th {\n        text-align: right;\n    }\n</style>\n<table border=\"1\" class=\"dataframe\">\n  <thead>\n    <tr style=\"text-align: right;\">\n      <th></th>\n      <th>question</th>\n      <th>answer</th>\n      <th>image_id</th>\n    </tr>\n  </thead>\n  <tbody>\n    <tr>\n      <th>0</th>\n      <td>what is on the right side of the black telepho...</td>\n      <td>desk</td>\n      <td>image3</td>\n    </tr>\n    <tr>\n      <th>1</th>\n      <td>what is in front of the white door on the left...</td>\n      <td>telephone</td>\n      <td>image3</td>\n    </tr>\n    <tr>\n      <th>2</th>\n      <td>what is on the desk</td>\n      <td>book</td>\n      <td>image3</td>\n    </tr>\n    <tr>\n      <th>3</th>\n      <td>what is on the desk</td>\n      <td>scissor</td>\n      <td>image3</td>\n    </tr>\n    <tr>\n      <th>4</th>\n      <td>what is on the desk</td>\n      <td>papers</td>\n      <td>image3</td>\n    </tr>\n  </tbody>\n</table>\n</div>"
     },
     "execution_count": 7,
     "metadata": {},
     "output_type": "execute_result"
    }
   ],
   "source": [
    "new_df.loc[:, \"answer\"] = split_answer.str.strip()\n",
    "new_df.reset_index(drop=True, inplace=True)\n",
    "new_df.head()"
   ],
   "metadata": {
    "collapsed": false,
    "ExecuteTime": {
     "end_time": "2023-05-03T16:42:29.966945691Z",
     "start_time": "2023-05-03T16:42:29.857884658Z"
    }
   }
  },
  {
   "cell_type": "code",
   "execution_count": 8,
   "outputs": [
    {
     "name": "stderr",
     "output_type": "stream",
     "text": [
      "Found cached dataset csv (/home/vlad/.cache/huggingface/datasets/csv/default-955a7bafb90eef83/0.0.0/6b34fb8fcf56f7c8ba51dc895bfa2bfbe43546f190a60fcf74bb5e8afdcc2317)\n"
     ]
    },
    {
     "data": {
      "text/plain": "  0%|          | 0/2 [00:00<?, ?it/s]",
      "application/vnd.jupyter.widget-view+json": {
       "version_major": 2,
       "version_minor": 0,
       "model_id": "a075c6887f03443093995d45ee6ca343"
      }
     },
     "metadata": {},
     "output_type": "display_data"
    },
    {
     "data": {
      "text/plain": "DatasetDict({\n    train: Dataset({\n        features: ['question', 'answer', 'image_id'],\n        num_rows: 7768\n    })\n    validation: Dataset({\n        features: ['question', 'answer', 'image_id'],\n        num_rows: 6562\n    })\n})"
     },
     "execution_count": 8,
     "metadata": {},
     "output_type": "execute_result"
    }
   ],
   "source": [
    "from pathlib import Path\n",
    "from datasets import load_dataset\n",
    "\n",
    "PROCESSED_DAQUAR_PATH = Path(\"../data/processed/daquar\")\n",
    "\n",
    "daquar_dataset = load_dataset(\n",
    "        \"csv\",\n",
    "        data_files={\n",
    "            \"train\": str(PROCESSED_DAQUAR_PATH / \"daquar_train_flattened.csv\"),\n",
    "            \"validation\": str(PROCESSED_DAQUAR_PATH / \"daquar_eval_flattened.csv\"),\n",
    "        },\n",
    "    )\n",
    "daquar_dataset"
   ],
   "metadata": {
    "collapsed": false,
    "ExecuteTime": {
     "end_time": "2023-05-03T16:42:32.417010946Z",
     "start_time": "2023-05-03T16:42:29.858379117Z"
    }
   }
  },
  {
   "cell_type": "code",
   "execution_count": 9,
   "outputs": [
    {
     "name": "stderr",
     "output_type": "stream",
     "text": [
      "Found cached dataset csv (/home/vlad/.cache/huggingface/datasets/csv/default-955a7bafb90eef83/0.0.0/6b34fb8fcf56f7c8ba51dc895bfa2bfbe43546f190a60fcf74bb5e8afdcc2317)\n"
     ]
    },
    {
     "data": {
      "text/plain": "  0%|          | 0/2 [00:00<?, ?it/s]",
      "application/vnd.jupyter.widget-view+json": {
       "version_major": 2,
       "version_minor": 0,
       "model_id": "b26b7ec65fe84e6ea15a1b93477f3913"
      }
     },
     "metadata": {},
     "output_type": "display_data"
    },
    {
     "data": {
      "text/plain": "Map:   0%|          | 0/7768 [00:00<?, ? examples/s]",
      "application/vnd.jupyter.widget-view+json": {
       "version_major": 2,
       "version_minor": 0,
       "model_id": "782127fc04a54d9a81bb686dd0b16e64"
      }
     },
     "metadata": {},
     "output_type": "display_data"
    },
    {
     "data": {
      "text/plain": "Map:   0%|          | 0/6562 [00:00<?, ? examples/s]",
      "application/vnd.jupyter.widget-view+json": {
       "version_major": 2,
       "version_minor": 0,
       "model_id": "525ca43585b54002893fec4e8fd68dcb"
      }
     },
     "metadata": {},
     "output_type": "display_data"
    },
    {
     "data": {
      "text/plain": "{'question': ['what is on the right side of the black telephone and on the left side of the red chair',\n  'what is in front of the white door on the left side of the desk',\n  'what is on the desk',\n  'what is on the desk',\n  'what is on the desk',\n  'what is on the desk',\n  'what is the largest brown objects',\n  'what color is the chair in front of the white wall',\n  'what is on the right side of the notebook on the desk',\n  'what is on the right and left and in front of the papers on the desk'],\n 'answer': ['desk',\n  'telephone',\n  'book, scissor, papers, tape_dispenser',\n  'book, scissor, papers, tape_dispenser',\n  'book, scissor, papers, tape_dispenser',\n  'book, scissor, papers, tape_dispenser',\n  'carton',\n  'red',\n  'plastic_cup_of_coffee',\n  'notebook'],\n 'image_id': ['image3',\n  'image3',\n  'image3',\n  'image3',\n  'image3',\n  'image3',\n  'image3',\n  'image3',\n  'image4',\n  'image4'],\n 'image': [<PIL.PngImagePlugin.PngImageFile image mode=RGB size=560x425>,\n  <PIL.PngImagePlugin.PngImageFile image mode=RGB size=560x425>,\n  <PIL.PngImagePlugin.PngImageFile image mode=RGB size=560x425>,\n  <PIL.PngImagePlugin.PngImageFile image mode=RGB size=560x425>,\n  <PIL.PngImagePlugin.PngImageFile image mode=RGB size=560x425>,\n  <PIL.PngImagePlugin.PngImageFile image mode=RGB size=560x425>,\n  <PIL.PngImagePlugin.PngImageFile image mode=RGB size=560x425>,\n  <PIL.PngImagePlugin.PngImageFile image mode=RGB size=560x425>,\n  <PIL.PngImagePlugin.PngImageFile image mode=RGB size=560x425>,\n  <PIL.PngImagePlugin.PngImageFile image mode=RGB size=560x425>]}"
     },
     "execution_count": 9,
     "metadata": {},
     "output_type": "execute_result"
    }
   ],
   "source": [
    "from utils.datasets.daquar import load_daquar\n",
    "\n",
    "daquar = load_daquar()\n",
    "daquar[\"train\"][:10]"
   ],
   "metadata": {
    "collapsed": false,
    "ExecuteTime": {
     "end_time": "2023-05-03T17:25:40.362635332Z",
     "start_time": "2023-05-03T16:42:32.368781388Z"
    }
   }
  },
  {
   "cell_type": "code",
   "execution_count": 9,
   "outputs": [],
   "source": [],
   "metadata": {
    "collapsed": false,
    "ExecuteTime": {
     "end_time": "2023-05-03T17:25:40.423065838Z",
     "start_time": "2023-05-03T17:25:40.409907524Z"
    }
   }
  }
 ],
 "metadata": {
  "kernelspec": {
   "display_name": "Python 3",
   "language": "python",
   "name": "python3"
  },
  "language_info": {
   "codemirror_mode": {
    "name": "ipython",
    "version": 2
   },
   "file_extension": ".py",
   "mimetype": "text/x-python",
   "name": "python",
   "nbconvert_exporter": "python",
   "pygments_lexer": "ipython2",
   "version": "2.7.6"
  }
 },
 "nbformat": 4,
 "nbformat_minor": 0
}
