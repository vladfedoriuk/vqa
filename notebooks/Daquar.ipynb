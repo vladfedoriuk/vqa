{
 "cells": [
  {
   "cell_type": "code",
   "execution_count": 17,
   "metadata": {
    "collapsed": true
   },
   "outputs": [
    {
     "data": {
      "text/plain": "                                            question  \\\n0  what is on the right side of the black telepho...   \n1  what is in front of the white door on the left...   \n2                                what is on the desk   \n3                  what is the largest brown objects   \n4  what color is the chair in front of the white ...   \n\n                                  answer image_id  \n0                                   desk   image3  \n1                              telephone   image3  \n2  book, scissor, papers, tape_dispenser   image3  \n3                                 carton   image3  \n4                                    red   image3  ",
      "text/html": "<div>\n<style scoped>\n    .dataframe tbody tr th:only-of-type {\n        vertical-align: middle;\n    }\n\n    .dataframe tbody tr th {\n        vertical-align: top;\n    }\n\n    .dataframe thead th {\n        text-align: right;\n    }\n</style>\n<table border=\"1\" class=\"dataframe\">\n  <thead>\n    <tr style=\"text-align: right;\">\n      <th></th>\n      <th>question</th>\n      <th>answer</th>\n      <th>image_id</th>\n    </tr>\n  </thead>\n  <tbody>\n    <tr>\n      <th>0</th>\n      <td>what is on the right side of the black telepho...</td>\n      <td>desk</td>\n      <td>image3</td>\n    </tr>\n    <tr>\n      <th>1</th>\n      <td>what is in front of the white door on the left...</td>\n      <td>telephone</td>\n      <td>image3</td>\n    </tr>\n    <tr>\n      <th>2</th>\n      <td>what is on the desk</td>\n      <td>book, scissor, papers, tape_dispenser</td>\n      <td>image3</td>\n    </tr>\n    <tr>\n      <th>3</th>\n      <td>what is the largest brown objects</td>\n      <td>carton</td>\n      <td>image3</td>\n    </tr>\n    <tr>\n      <th>4</th>\n      <td>what color is the chair in front of the white ...</td>\n      <td>red</td>\n      <td>image3</td>\n    </tr>\n  </tbody>\n</table>\n</div>"
     },
     "execution_count": 17,
     "metadata": {},
     "output_type": "execute_result"
    }
   ],
   "source": [
    "import pandas as pd\n",
    "\n",
    "\n",
    "DAQUAR_PATH = \"../data/daquar/data_train.csv\"\n",
    "\n",
    "daquar_train = pd.read_csv(DAQUAR_PATH)\n",
    "daquar_train.head()"
   ]
  },
  {
   "cell_type": "code",
   "execution_count": 18,
   "outputs": [
    {
     "data": {
      "text/plain": "question    6795\nanswer      6795\nimage_id    6795\ndtype: int64"
     },
     "execution_count": 18,
     "metadata": {},
     "output_type": "execute_result"
    }
   ],
   "source": [
    "daquar_train.count()"
   ],
   "metadata": {
    "collapsed": false
   }
  },
  {
   "cell_type": "code",
   "execution_count": 19,
   "outputs": [
    {
     "data": {
      "text/plain": "                                             question  \\\n2                                 what is on the desk   \n14  what is in front of the white board or in fron...   \n26  what are on the wall on the left side of the g...   \n72         what are the white objects on the mattress   \n74  what color is the hat on the top right of the ...   \n\n                                   answer image_id  \n2   book, scissor, papers, tape_dispenser   image3  \n14                           table, chair   image5  \n26                       clock, telephone   image8  \n72                        blanket, pillow  image73  \n74                           black, white  image80  ",
      "text/html": "<div>\n<style scoped>\n    .dataframe tbody tr th:only-of-type {\n        vertical-align: middle;\n    }\n\n    .dataframe tbody tr th {\n        vertical-align: top;\n    }\n\n    .dataframe thead th {\n        text-align: right;\n    }\n</style>\n<table border=\"1\" class=\"dataframe\">\n  <thead>\n    <tr style=\"text-align: right;\">\n      <th></th>\n      <th>question</th>\n      <th>answer</th>\n      <th>image_id</th>\n    </tr>\n  </thead>\n  <tbody>\n    <tr>\n      <th>2</th>\n      <td>what is on the desk</td>\n      <td>book, scissor, papers, tape_dispenser</td>\n      <td>image3</td>\n    </tr>\n    <tr>\n      <th>14</th>\n      <td>what is in front of the white board or in fron...</td>\n      <td>table, chair</td>\n      <td>image5</td>\n    </tr>\n    <tr>\n      <th>26</th>\n      <td>what are on the wall on the left side of the g...</td>\n      <td>clock, telephone</td>\n      <td>image8</td>\n    </tr>\n    <tr>\n      <th>72</th>\n      <td>what are the white objects on the mattress</td>\n      <td>blanket, pillow</td>\n      <td>image73</td>\n    </tr>\n    <tr>\n      <th>74</th>\n      <td>what color is the hat on the top right of the ...</td>\n      <td>black, white</td>\n      <td>image80</td>\n    </tr>\n  </tbody>\n</table>\n</div>"
     },
     "execution_count": 19,
     "metadata": {},
     "output_type": "execute_result"
    }
   ],
   "source": [
    "multiple_answers = daquar_train[daquar_train[\"answer\"].str.contains(\",\")]\n",
    "multiple_answers.head()"
   ],
   "metadata": {
    "collapsed": false
   }
  },
  {
   "cell_type": "code",
   "execution_count": 20,
   "outputs": [
    {
     "data": {
      "text/plain": "question    646\nanswer      646\nimage_id    646\ndtype: int64"
     },
     "execution_count": 20,
     "metadata": {},
     "output_type": "execute_result"
    }
   ],
   "source": [
    "multiple_answers.count()"
   ],
   "metadata": {
    "collapsed": false
   }
  },
  {
   "cell_type": "code",
   "execution_count": 21,
   "outputs": [
    {
     "data": {
      "text/plain": "                                            question  \\\n0  what is on the right side of the black telepho...   \n1  what is in front of the white door on the left...   \n2                                what is on the desk   \n2                                what is on the desk   \n2                                what is on the desk   \n\n                                  answer image_id  \n0                                   desk   image3  \n1                              telephone   image3  \n2  book, scissor, papers, tape_dispenser   image3  \n2  book, scissor, papers, tape_dispenser   image3  \n2  book, scissor, papers, tape_dispenser   image3  ",
      "text/html": "<div>\n<style scoped>\n    .dataframe tbody tr th:only-of-type {\n        vertical-align: middle;\n    }\n\n    .dataframe tbody tr th {\n        vertical-align: top;\n    }\n\n    .dataframe thead th {\n        text-align: right;\n    }\n</style>\n<table border=\"1\" class=\"dataframe\">\n  <thead>\n    <tr style=\"text-align: right;\">\n      <th></th>\n      <th>question</th>\n      <th>answer</th>\n      <th>image_id</th>\n    </tr>\n  </thead>\n  <tbody>\n    <tr>\n      <th>0</th>\n      <td>what is on the right side of the black telepho...</td>\n      <td>desk</td>\n      <td>image3</td>\n    </tr>\n    <tr>\n      <th>1</th>\n      <td>what is in front of the white door on the left...</td>\n      <td>telephone</td>\n      <td>image3</td>\n    </tr>\n    <tr>\n      <th>2</th>\n      <td>what is on the desk</td>\n      <td>book, scissor, papers, tape_dispenser</td>\n      <td>image3</td>\n    </tr>\n    <tr>\n      <th>2</th>\n      <td>what is on the desk</td>\n      <td>book, scissor, papers, tape_dispenser</td>\n      <td>image3</td>\n    </tr>\n    <tr>\n      <th>2</th>\n      <td>what is on the desk</td>\n      <td>book, scissor, papers, tape_dispenser</td>\n      <td>image3</td>\n    </tr>\n  </tbody>\n</table>\n</div>"
     },
     "execution_count": 21,
     "metadata": {},
     "output_type": "execute_result"
    }
   ],
   "source": [
    "new_df = daquar_train.iloc[daquar_train.index.repeat(daquar_train[\"answer\"].str.count(\",\") + 1)]\n",
    "new_df.head()"
   ],
   "metadata": {
    "collapsed": false
   }
  },
  {
   "cell_type": "code",
   "execution_count": 22,
   "outputs": [
    {
     "data": {
      "text/plain": "0             desk\n1        telephone\n2             book\n2          scissor\n2           papers\n           ...    \n6791        window\n6792       cabinet\n6793    candelabra\n6793          book\n6794         chair\nName: answer, Length: 7768, dtype: object"
     },
     "execution_count": 22,
     "metadata": {},
     "output_type": "execute_result"
    }
   ],
   "source": [
    "split_answer = daquar_train[\"answer\"].str.split(\",\", expand=True).stack().reset_index(level=1, drop=True).rename(\"answer\")\n",
    "split_answer"
   ],
   "metadata": {
    "collapsed": false
   }
  },
  {
   "cell_type": "code",
   "execution_count": 25,
   "outputs": [
    {
     "name": "stderr",
     "output_type": "stream",
     "text": [
      "/tmp/ipykernel_27282/1585816665.py:1: SettingWithCopyWarning: \n",
      "A value is trying to be set on a copy of a slice from a DataFrame.\n",
      "Try using .loc[row_indexer,col_indexer] = value instead\n",
      "\n",
      "See the caveats in the documentation: https://pandas.pydata.org/pandas-docs/stable/user_guide/indexing.html#returning-a-view-versus-a-copy\n",
      "  new_df.loc[:, \"answer\"] = split_answer.str.strip()\n"
     ]
    },
    {
     "data": {
      "text/plain": "                                            question     answer image_id\n0  what is on the right side of the black telepho...       desk   image3\n1  what is in front of the white door on the left...  telephone   image3\n2                                what is on the desk       book   image3\n3                                what is on the desk    scissor   image3\n4                                what is on the desk     papers   image3",
      "text/html": "<div>\n<style scoped>\n    .dataframe tbody tr th:only-of-type {\n        vertical-align: middle;\n    }\n\n    .dataframe tbody tr th {\n        vertical-align: top;\n    }\n\n    .dataframe thead th {\n        text-align: right;\n    }\n</style>\n<table border=\"1\" class=\"dataframe\">\n  <thead>\n    <tr style=\"text-align: right;\">\n      <th></th>\n      <th>question</th>\n      <th>answer</th>\n      <th>image_id</th>\n    </tr>\n  </thead>\n  <tbody>\n    <tr>\n      <th>0</th>\n      <td>what is on the right side of the black telepho...</td>\n      <td>desk</td>\n      <td>image3</td>\n    </tr>\n    <tr>\n      <th>1</th>\n      <td>what is in front of the white door on the left...</td>\n      <td>telephone</td>\n      <td>image3</td>\n    </tr>\n    <tr>\n      <th>2</th>\n      <td>what is on the desk</td>\n      <td>book</td>\n      <td>image3</td>\n    </tr>\n    <tr>\n      <th>3</th>\n      <td>what is on the desk</td>\n      <td>scissor</td>\n      <td>image3</td>\n    </tr>\n    <tr>\n      <th>4</th>\n      <td>what is on the desk</td>\n      <td>papers</td>\n      <td>image3</td>\n    </tr>\n  </tbody>\n</table>\n</div>"
     },
     "execution_count": 25,
     "metadata": {},
     "output_type": "execute_result"
    }
   ],
   "source": [
    "new_df.loc[:, \"answer\"] = split_answer.str.strip()\n",
    "new_df.reset_index(drop=True, inplace=True)\n",
    "new_df.head()"
   ],
   "metadata": {
    "collapsed": false
   }
  },
  {
   "cell_type": "code",
   "execution_count": null,
   "outputs": [],
   "source": [],
   "metadata": {
    "collapsed": false
   }
  }
 ],
 "metadata": {
  "kernelspec": {
   "display_name": "Python 3",
   "language": "python",
   "name": "python3"
  },
  "language_info": {
   "codemirror_mode": {
    "name": "ipython",
    "version": 2
   },
   "file_extension": ".py",
   "mimetype": "text/x-python",
   "name": "python",
   "nbconvert_exporter": "python",
   "pygments_lexer": "ipython2",
   "version": "2.7.6"
  }
 },
 "nbformat": 4,
 "nbformat_minor": 0
}
