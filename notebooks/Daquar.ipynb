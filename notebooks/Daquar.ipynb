{
 "cells": [
  {
   "cell_type": "code",
   "execution_count": 2,
   "metadata": {
    "ExecuteTime": {
     "end_time": "2023-05-20T18:58:58.167485763Z",
     "start_time": "2023-05-20T18:58:55.523772496Z"
    }
   },
   "outputs": [
    {
     "name": "stdout",
     "output_type": "stream",
     "text": [
      "Downloading and preparing dataset csv/default to /home/vlad/.cache/huggingface/datasets/csv/default-9bc6d679d535c303/0.0.0/6b34fb8fcf56f7c8ba51dc895bfa2bfbe43546f190a60fcf74bb5e8afdcc2317...\n"
     ]
    },
    {
     "data": {
      "text/plain": "Downloading data files:   0%|          | 0/2 [00:00<?, ?it/s]",
      "application/vnd.jupyter.widget-view+json": {
       "version_major": 2,
       "version_minor": 0,
       "model_id": "5d2c9736b9e14aecaf18b34095f1b2a8"
      }
     },
     "metadata": {},
     "output_type": "display_data"
    },
    {
     "data": {
      "text/plain": "Extracting data files:   0%|          | 0/2 [00:00<?, ?it/s]",
      "application/vnd.jupyter.widget-view+json": {
       "version_major": 2,
       "version_minor": 0,
       "model_id": "ebf818908f6f4c009f7132ca7575ca1d"
      }
     },
     "metadata": {},
     "output_type": "display_data"
    },
    {
     "data": {
      "text/plain": "Generating train split: 0 examples [00:00, ? examples/s]",
      "application/vnd.jupyter.widget-view+json": {
       "version_major": 2,
       "version_minor": 0,
       "model_id": "9477dbfdc6d644cd8fe99cd8ec187337"
      }
     },
     "metadata": {},
     "output_type": "display_data"
    },
    {
     "name": "stderr",
     "output_type": "stream",
     "text": [
      "/home/vlad/.pyenv/versions/vqa/lib/python3.10/site-packages/datasets/download/streaming_download_manager.py:776: FutureWarning: the 'mangle_dupe_cols' keyword is deprecated and will be removed in a future version. Please take steps to stop the use of 'mangle_dupe_cols'\n",
      "  return pd.read_csv(xopen(filepath_or_buffer, \"rb\", use_auth_token=use_auth_token), **kwargs)\n"
     ]
    },
    {
     "data": {
      "text/plain": "Generating validation split: 0 examples [00:00, ? examples/s]",
      "application/vnd.jupyter.widget-view+json": {
       "version_major": 2,
       "version_minor": 0,
       "model_id": "60a31af9430946a1812ccec9684f5569"
      }
     },
     "metadata": {},
     "output_type": "display_data"
    },
    {
     "name": "stderr",
     "output_type": "stream",
     "text": [
      "/home/vlad/.pyenv/versions/vqa/lib/python3.10/site-packages/datasets/download/streaming_download_manager.py:776: FutureWarning: the 'mangle_dupe_cols' keyword is deprecated and will be removed in a future version. Please take steps to stop the use of 'mangle_dupe_cols'\n",
      "  return pd.read_csv(xopen(filepath_or_buffer, \"rb\", use_auth_token=use_auth_token), **kwargs)\n"
     ]
    },
    {
     "name": "stdout",
     "output_type": "stream",
     "text": [
      "Dataset csv downloaded and prepared to /home/vlad/.cache/huggingface/datasets/csv/default-9bc6d679d535c303/0.0.0/6b34fb8fcf56f7c8ba51dc895bfa2bfbe43546f190a60fcf74bb5e8afdcc2317. Subsequent calls will reuse this data.\n"
     ]
    },
    {
     "data": {
      "text/plain": "  0%|          | 0/2 [00:00<?, ?it/s]",
      "application/vnd.jupyter.widget-view+json": {
       "version_major": 2,
       "version_minor": 0,
       "model_id": "ee3ae63c192e4e8a86d180e5568f37f6"
      }
     },
     "metadata": {},
     "output_type": "display_data"
    }
   ],
   "source": [
    "from utils.datasets.daquar import load_daquar_datasets\n",
    "\n",
    "datasets_ = load_daquar_datasets()"
   ]
  },
  {
   "cell_type": "code",
   "execution_count": 7,
   "metadata": {
    "ExecuteTime": {
     "end_time": "2023-05-20T19:01:22.374602226Z",
     "start_time": "2023-05-20T19:01:13.025673319Z"
    }
   },
   "outputs": [
    {
     "data": {
      "text/plain": "Downloading (…)rocessor_config.json:   0%|          | 0.00/251 [00:00<?, ?B/s]",
      "application/vnd.jupyter.widget-view+json": {
       "version_major": 2,
       "version_minor": 0,
       "model_id": "76df6e88977643158b9d7a20ac224175"
      }
     },
     "metadata": {},
     "output_type": "display_data"
    },
    {
     "data": {
      "text/plain": "Downloading (…)okenizer_config.json:   0%|          | 0.00/320 [00:00<?, ?B/s]",
      "application/vnd.jupyter.widget-view+json": {
       "version_major": 2,
       "version_minor": 0,
       "model_id": "a6f9da3b79d74f7f958c5c19078fc18a"
      }
     },
     "metadata": {},
     "output_type": "display_data"
    },
    {
     "data": {
      "text/plain": "Downloading (…)solve/main/vocab.txt:   0%|          | 0.00/232k [00:00<?, ?B/s]",
      "application/vnd.jupyter.widget-view+json": {
       "version_major": 2,
       "version_minor": 0,
       "model_id": "6459097e2cbd40c8bdaa919da24bf0bf"
      }
     },
     "metadata": {},
     "output_type": "display_data"
    },
    {
     "data": {
      "text/plain": "Downloading (…)/main/tokenizer.json:   0%|          | 0.00/466k [00:00<?, ?B/s]",
      "application/vnd.jupyter.widget-view+json": {
       "version_major": 2,
       "version_minor": 0,
       "model_id": "608309d7dd934f2292d9aff384180a30"
      }
     },
     "metadata": {},
     "output_type": "display_data"
    },
    {
     "data": {
      "text/plain": "Downloading (…)cial_tokens_map.json:   0%|          | 0.00/112 [00:00<?, ?B/s]",
      "application/vnd.jupyter.widget-view+json": {
       "version_major": 2,
       "version_minor": 0,
       "model_id": "5dec430207774dab8789675ee4732134"
      }
     },
     "metadata": {},
     "output_type": "display_data"
    }
   ],
   "source": [
    "from torch.utils.data import DataLoader, SequentialSampler\n",
    "import datasets\n",
    "from collators.daquar import DaquarClassificationCollator\n",
    "from models.backbones.configs import ViLTVQAConfig\n",
    "from utils.datasets.daquar import DaquarAnswerSpace\n",
    "from transforms.image import augment_image_for_vqa\n",
    "\n",
    "answer_space = DaquarAnswerSpace()\n",
    "\n",
    "image_processor = ViLTVQAConfig.get_image_processor()\n",
    "\n",
    "tokenizer = ViLTVQAConfig.get_tokenizer()\n",
    "\n",
    "\n",
    "dataloader = DataLoader(\n",
    "    datasets_[datasets.Split.VALIDATION],\n",
    "    sampler=SequentialSampler(datasets_[datasets.Split.VALIDATION]),\n",
    "    collate_fn=DaquarClassificationCollator(\n",
    "        tokenizer=tokenizer,\n",
    "        image_processor=image_processor,\n",
    "        image_encoder_config=ViLTVQAConfig,\n",
    "        text_encoder_config=ViLTVQAConfig,\n",
    "        single_image_transforms=augment_image_for_vqa,\n",
    "        answer_space=answer_space,\n",
    "    ),\n",
    "    batch_size=64,\n",
    "    num_workers=6,\n",
    ")"
   ]
  },
  {
   "cell_type": "code",
   "execution_count": 4,
   "metadata": {
    "ExecuteTime": {
     "end_time": "2023-05-20T18:59:28.888405370Z",
     "start_time": "2023-05-20T18:59:20.713128131Z"
    }
   },
   "outputs": [
    {
     "name": "stderr",
     "output_type": "stream",
     "text": [
      "/home/vlad/.pyenv/versions/vqa/lib/python3.10/site-packages/torch/utils/data/dataloader.py:554: UserWarning: This DataLoader will create 6 worker processes in total. Our suggested max number of worker in current system is 4, which is smaller than what this DataLoader is going to create. Please be aware that excessive worker creation might get DataLoader running slow or even freeze, lower the worker number to avoid potential slowness/freeze if necessary.\n",
      "  warnings.warn(_create_warning_msg(\n"
     ]
    }
   ],
   "source": [
    "batch = next(iter(dataloader))"
   ]
  },
  {
   "cell_type": "code",
   "execution_count": 5,
   "metadata": {
    "ExecuteTime": {
     "end_time": "2023-05-20T18:59:32.963427916Z",
     "start_time": "2023-05-20T18:59:32.898055128Z"
    }
   },
   "outputs": [
    {
     "data": {
      "text/plain": "{'question': ['what is the colour of the sofas',\n  'what is the largest object',\n  'what is the red object below the kitchen counter on the left side of the stool',\n  'what is on the table',\n  'what is right of sofa',\n  'what is at the right side',\n  'what is behind the bed',\n  'what is the object close to the wall left of the window',\n  'what is on the bed',\n  'what are around the table',\n  'what are the things on the piano',\n  'what is left side of the bed',\n  'what is at the right side of the bed',\n  'what is the object close to the wall behind the chair',\n  'what are the colours identifiable on the whiteboard',\n  'what is the object found on the table',\n  'what is to left of ladder',\n  'what is the colour of the bed cover',\n  'what is the red and gray object in front of the mirror and close to the edge of the desk',\n  'what is the colour of the lamp on the night stand',\n  'how many chairs are around the table',\n  'how many sinks are there',\n  'how many computers are visible',\n  'what is to the left of the chairs',\n  'what in on the right side of the table',\n  'what is at the right side to the wall',\n  'what is to the left',\n  'what color is the tea table',\n  'what are the colours of the sheets on the bed',\n  'what is at the right side',\n  'what is to the right side of the wash basin',\n  'what is the colour of the shirt the guy wearing',\n  'what is the largest object on the table',\n  'what is in front of the larger photo',\n  'what is the object in front of the window',\n  'what is in front of the wall',\n  'how many sofas are there',\n  'how many red pillows are there on the sofa',\n  'what is to the left side of the sink',\n  'what is behind the monitor',\n  'what is on the table behind the chair',\n  'what is on the left side of the packaged bottles',\n  'what is found on the sofa',\n  'how many drawer knobs are there',\n  'what is in front of the mirror',\n  'what is on the table',\n  'what is the colour of bag',\n  'what is in the shelf',\n  'what is on the left side of the wall ornaments',\n  'what is below the shelf',\n  'what is on the table',\n  'what is on the left side of the desk close to a bunch of paper',\n  'what is on the right side of the pillow',\n  'what is the object found on the left side of the bottle',\n  'what is behind the shelf',\n  'what is on the stove burner',\n  'what is above bath tub',\n  'what is the red colour object',\n  'what is found on the left side',\n  'what is on the right side of the table',\n  'what is in between the toys rack and the bags',\n  'what is in front of the wall',\n  'what object is hanged on the chair',\n  'what is on the right side of the chair'],\n 'answer': ['white',\n  'shelves',\n  'fire_extinguisher',\n  'head_phones',\n  'lamp',\n  'bed',\n  'window',\n  'picture',\n  'pillow',\n  'chair',\n  'sheet_music',\n  'night_stand',\n  'cabinet',\n  'whiteboard',\n  'black',\n  'bag',\n  'shelves',\n  'white',\n  'deoderant',\n  'red',\n  '4',\n  '2',\n  '3',\n  'cabinet',\n  'lamp',\n  'cabinet',\n  'table',\n  'brown',\n  'gray',\n  'door',\n  'plant',\n  'pink',\n  'lamp',\n  'table',\n  'chair',\n  'excercise_equipment',\n  '2',\n  '2',\n  'bathtub',\n  'bookshelf',\n  'paper',\n  'table',\n  'pillow',\n  '3',\n  'plate',\n  'towel',\n  'black',\n  'container',\n  'picture',\n  'table',\n  'computer',\n  'printer',\n  'book',\n  'vase',\n  'window',\n  'coffee_pot',\n  'window',\n  'curtain',\n  'bookshelf',\n  'garbage_bin',\n  'toys_basket',\n  'pool_table',\n  'clothes',\n  'fireplace'],\n 'image_id': ['image462',\n  'image712',\n  'image569',\n  'image582',\n  'image283',\n  'image1078',\n  'image1057',\n  'image1127',\n  'image1002',\n  'image1431',\n  'image1278',\n  'image56',\n  'image1075',\n  'image33',\n  'image42',\n  'image811',\n  'image17',\n  'image927',\n  'image77',\n  'image991',\n  'image1249',\n  'image671',\n  'image387',\n  'image1387',\n  'image526',\n  'image1053',\n  'image1335',\n  'image1275',\n  'image1107',\n  'image1194',\n  'image765',\n  'image636',\n  'image1021',\n  'image1368',\n  'image40',\n  'image1218',\n  'image1331',\n  'image644',\n  'image651',\n  'image1084',\n  'image474',\n  'image1348',\n  'image1202',\n  'image1125',\n  'image693',\n  'image711',\n  'image781',\n  'image977',\n  'image84',\n  'image17',\n  'image387',\n  'image389',\n  'image538',\n  'image812',\n  'image299',\n  'image126',\n  'image509',\n  'image992',\n  'image995',\n  'image571',\n  'image1155',\n  'image433',\n  'image836',\n  'image581'],\n 'pixel_values': tensor([[[[-0.9608, -0.9608, -0.9608,  ..., -0.9608, -0.9608, -0.9608],\n           [-0.9608, -0.9608, -0.9608,  ..., -0.9608, -0.9608, -0.9608],\n           [-0.9608, -0.9608, -0.9608,  ..., -0.9608, -0.9608, -0.9608],\n           ...,\n           [-0.9608, -0.9608, -0.9608,  ..., -0.9608, -0.9608, -0.9608],\n           [-0.9608, -0.9608, -0.9608,  ..., -0.9608, -0.9608, -0.9608],\n           [-0.9608, -0.9608, -0.9608,  ..., -0.9608, -0.9608, -0.9608]],\n \n          [[-0.9608, -0.9608, -0.9608,  ..., -0.9608, -0.9608, -0.9608],\n           [-0.9608, -0.9608, -0.9608,  ..., -0.9608, -0.9608, -0.9608],\n           [-0.9608, -0.9608, -0.9608,  ..., -0.9608, -0.9608, -0.9608],\n           ...,\n           [-0.9608, -0.9608, -0.9608,  ..., -0.9608, -0.9608, -0.9608],\n           [-0.9608, -0.9608, -0.9608,  ..., -0.9608, -0.9608, -0.9608],\n           [-0.9608, -0.9608, -0.9608,  ..., -0.9608, -0.9608, -0.9608]],\n \n          [[-0.9608, -0.9608, -0.9608,  ..., -0.9608, -0.9608, -0.9608],\n           [-0.9608, -0.9608, -0.9608,  ..., -0.9608, -0.9608, -0.9608],\n           [-0.9608, -0.9608, -0.9608,  ..., -0.9608, -0.9608, -0.9608],\n           ...,\n           [-0.9608, -0.9608, -0.9608,  ..., -0.9608, -0.9608, -0.9608],\n           [-0.9608, -0.9608, -0.9608,  ..., -0.9608, -0.9608, -0.9608],\n           [-0.9608, -0.9608, -0.9608,  ..., -0.9608, -0.9608, -0.9608]]],\n \n \n         [[[-1.0000, -0.2784, -0.2784,  ..., -0.0353, -0.0745, -1.0000],\n           [-1.0000, -0.2784, -0.2784,  ..., -0.0196, -0.0510, -1.0000],\n           [-1.0000, -0.2863, -0.2863,  ..., -0.0275, -0.0431, -1.0000],\n           ...,\n           [-1.0000, -1.0000, -1.0000,  ..., -1.0000, -1.0000, -1.0000],\n           [-1.0000, -1.0000, -1.0000,  ..., -1.0000, -1.0000, -1.0000],\n           [-1.0000, -1.0000, -1.0000,  ..., -1.0000, -1.0000, -1.0000]],\n \n          [[-1.0000, -0.3725, -0.3725,  ...,  0.0431,  0.0039, -1.0000],\n           [-1.0000, -0.3725, -0.3725,  ...,  0.0667,  0.0353, -1.0000],\n           [-1.0000, -0.3804, -0.3804,  ...,  0.0588,  0.0431, -1.0000],\n           ...,\n           [-1.0000, -1.0000, -1.0000,  ..., -1.0000, -1.0000, -1.0000],\n           [-1.0000, -1.0000, -1.0000,  ..., -1.0000, -1.0000, -1.0000],\n           [-1.0000, -1.0000, -1.0000,  ..., -1.0000, -1.0000, -1.0000]],\n \n          [[-1.0000, -0.6549, -0.6471,  ...,  0.2471,  0.2078, -1.0000],\n           [-1.0000, -0.6549, -0.6549,  ...,  0.2627,  0.2314, -1.0000],\n           [-1.0000, -0.6627, -0.6627,  ...,  0.2549,  0.2471, -1.0000],\n           ...,\n           [-1.0000, -1.0000, -1.0000,  ..., -1.0000, -1.0000, -1.0000],\n           [-1.0000, -1.0000, -1.0000,  ..., -1.0000, -1.0000, -1.0000],\n           [-1.0000, -1.0000, -1.0000,  ..., -1.0000, -1.0000, -1.0000]]],\n \n \n         [[[ 0.8745,  0.8667,  0.8667,  ..., -0.9765, -0.9765, -0.9765],\n           [ 0.8745,  0.8667,  0.8667,  ..., -0.9765, -0.9765, -0.9765],\n           [ 0.8667,  0.8667,  0.8667,  ..., -0.9765, -0.9765, -0.9765],\n           ...,\n           [-0.9765, -0.9765, -0.9765,  ..., -0.9765, -0.9765, -0.9765],\n           [-0.9765, -0.9765, -0.9765,  ..., -0.9765, -0.9765, -0.9765],\n           [-0.9765, -0.9765, -0.9765,  ..., -0.9765, -0.9765, -0.9765]],\n \n          [[ 0.8353,  0.8275,  0.8353,  ..., -0.9765, -0.9765, -0.9765],\n           [ 0.8353,  0.8275,  0.8353,  ..., -0.9765, -0.9765, -0.9765],\n           [ 0.8196,  0.8196,  0.8275,  ..., -0.9765, -0.9765, -0.9765],\n           ...,\n           [-0.9765, -0.9765, -0.9765,  ..., -0.9765, -0.9765, -0.9765],\n           [-0.9765, -0.9765, -0.9765,  ..., -0.9765, -0.9765, -0.9765],\n           [-0.9765, -0.9765, -0.9765,  ..., -0.9765, -0.9765, -0.9765]],\n \n          [[ 0.8431,  0.8353,  0.8431,  ..., -0.9765, -0.9765, -0.9765],\n           [ 0.8431,  0.8353,  0.8353,  ..., -0.9765, -0.9765, -0.9765],\n           [ 0.8275,  0.8275,  0.8353,  ..., -0.9765, -0.9765, -0.9765],\n           ...,\n           [-0.9765, -0.9765, -0.9765,  ..., -0.9765, -0.9765, -0.9765],\n           [-0.9765, -0.9765, -0.9765,  ..., -0.9765, -0.9765, -0.9765],\n           [-0.9765, -0.9765, -0.9765,  ..., -0.9765, -0.9765, -0.9765]]],\n \n \n         ...,\n \n \n         [[[-1.0000, -1.0000, -1.0000,  ..., -1.0000, -1.0000, -1.0000],\n           [-1.0000, -1.0000, -1.0000,  ..., -1.0000, -1.0000, -1.0000],\n           [-1.0000, -1.0000, -1.0000,  ..., -1.0000, -1.0000, -1.0000],\n           ...,\n           [-1.0000, -1.0000, -1.0000,  ..., -1.0000, -1.0000, -1.0000],\n           [-1.0000, -1.0000, -1.0000,  ..., -1.0000, -1.0000, -1.0000],\n           [-1.0000, -1.0000, -1.0000,  ..., -1.0000, -1.0000, -1.0000]],\n \n          [[-1.0000, -1.0000, -1.0000,  ..., -1.0000, -1.0000, -1.0000],\n           [-1.0000, -1.0000, -1.0000,  ..., -1.0000, -1.0000, -1.0000],\n           [-1.0000, -1.0000, -1.0000,  ..., -1.0000, -1.0000, -1.0000],\n           ...,\n           [-1.0000, -1.0000, -1.0000,  ..., -1.0000, -1.0000, -1.0000],\n           [-1.0000, -1.0000, -1.0000,  ..., -1.0000, -1.0000, -1.0000],\n           [-1.0000, -1.0000, -1.0000,  ..., -1.0000, -1.0000, -1.0000]],\n \n          [[-1.0000, -1.0000, -1.0000,  ..., -1.0000, -1.0000, -1.0000],\n           [-1.0000, -1.0000, -1.0000,  ..., -1.0000, -1.0000, -1.0000],\n           [-1.0000, -1.0000, -1.0000,  ..., -1.0000, -1.0000, -1.0000],\n           ...,\n           [-1.0000, -1.0000, -1.0000,  ..., -1.0000, -1.0000, -1.0000],\n           [-1.0000, -1.0000, -1.0000,  ..., -1.0000, -1.0000, -1.0000],\n           [-1.0000, -1.0000, -1.0000,  ..., -1.0000, -1.0000, -1.0000]]],\n \n \n         [[[ 0.6235,  0.6314,  0.6235,  ..., -0.5216, -0.5137, -0.5059],\n           [ 0.1059,  0.1294,  0.1686,  ..., -0.5137, -0.5059, -0.4980],\n           [-0.1843, -0.1373, -0.0275,  ..., -0.5059, -0.4980, -0.4824],\n           ...,\n           [ 0.3176,  0.1529,  0.0667,  ..., -0.8118, -0.8431, -0.8510],\n           [ 0.0431,  0.0824,  0.1137,  ..., -0.6392, -0.7020, -0.7569],\n           [ 0.0588,  0.1216,  0.1765,  ..., -0.4353, -0.4667, -0.4980]],\n \n          [[ 0.6392,  0.6392,  0.6235,  ..., -0.5451, -0.5373, -0.5373],\n           [ 0.1137,  0.1451,  0.1843,  ..., -0.5529, -0.5451, -0.5373],\n           [-0.1216, -0.0902,  0.0196,  ..., -0.5608, -0.5529, -0.5451],\n           ...,\n           [ 0.0510, -0.1294, -0.2392,  ..., -0.8118, -0.8667, -0.8980],\n           [-0.2157, -0.1922, -0.1608,  ..., -0.6392, -0.7255, -0.7961],\n           [-0.2314, -0.1608, -0.0980,  ..., -0.4275, -0.4667, -0.5137]],\n \n          [[ 0.8980,  0.9059,  0.9059,  ..., -0.5686, -0.5608, -0.5529],\n           [ 0.5529,  0.5686,  0.6000,  ..., -0.5529, -0.5451, -0.5216],\n           [ 0.2706,  0.3333,  0.4510,  ..., -0.5137, -0.4980, -0.4745],\n           ...,\n           [ 0.0118, -0.1686, -0.2706,  ..., -0.8510, -0.8431, -0.8275],\n           [-0.3255, -0.3098, -0.2941,  ..., -0.7333, -0.7882, -0.8118],\n           [-0.3647, -0.3412, -0.3255,  ..., -0.5529, -0.5765, -0.5922]]],\n \n \n         [[[-1.0000, -1.0000, -1.0000,  ..., -1.0000, -1.0000, -1.0000],\n           [-1.0000, -1.0000, -1.0000,  ..., -1.0000, -1.0000, -1.0000],\n           [-1.0000, -1.0000, -1.0000,  ..., -1.0000, -1.0000, -1.0000],\n           ...,\n           [-0.6784, -0.6706, -0.6706,  ..., -1.0000, -1.0000, -1.0000],\n           [-0.6784, -0.6706, -0.6784,  ..., -1.0000, -1.0000, -1.0000],\n           [-0.6706, -0.6706, -0.6784,  ..., -1.0000, -1.0000, -1.0000]],\n \n          [[-1.0000, -1.0000, -1.0000,  ..., -1.0000, -1.0000, -1.0000],\n           [-1.0000, -1.0000, -1.0000,  ..., -1.0000, -1.0000, -1.0000],\n           [-1.0000, -1.0000, -1.0000,  ..., -1.0000, -1.0000, -1.0000],\n           ...,\n           [-0.9608, -0.9529, -0.9686,  ..., -1.0000, -1.0000, -1.0000],\n           [-0.9294, -0.9373, -0.9608,  ..., -1.0000, -1.0000, -1.0000],\n           [-0.9216, -0.9373, -0.9608,  ..., -1.0000, -1.0000, -1.0000]],\n \n          [[-1.0000, -1.0000, -1.0000,  ..., -1.0000, -1.0000, -1.0000],\n           [-1.0000, -1.0000, -1.0000,  ..., -1.0000, -1.0000, -1.0000],\n           [-1.0000, -1.0000, -1.0000,  ..., -1.0000, -1.0000, -1.0000],\n           ...,\n           [-0.9137, -0.8667, -0.8353,  ..., -1.0000, -1.0000, -1.0000],\n           [-0.8667, -0.8275, -0.8039,  ..., -1.0000, -1.0000, -1.0000],\n           [-0.8431, -0.8039, -0.7804,  ..., -1.0000, -1.0000, -1.0000]]]]),\n 'image': [<PIL.Image.Image image mode=RGB size=560x425>,\n  <PIL.Image.Image image mode=RGB size=560x425>,\n  <PIL.Image.Image image mode=RGB size=560x425>,\n  <PIL.Image.Image image mode=RGB size=560x425>,\n  <PIL.Image.Image image mode=RGB size=560x425>,\n  <PIL.Image.Image image mode=RGB size=560x425>,\n  <PIL.Image.Image image mode=RGB size=560x425>,\n  <PIL.Image.Image image mode=RGB size=560x425>,\n  <PIL.Image.Image image mode=RGB size=560x425>,\n  <PIL.Image.Image image mode=RGB size=560x425>,\n  <PIL.Image.Image image mode=RGB size=560x425>,\n  <PIL.Image.Image image mode=RGB size=560x425>,\n  <PIL.Image.Image image mode=RGB size=560x425>,\n  <PIL.Image.Image image mode=RGB size=560x425>,\n  <PIL.Image.Image image mode=RGB size=560x425>,\n  <PIL.Image.Image image mode=RGB size=560x425>,\n  <PIL.Image.Image image mode=RGB size=560x425>,\n  <PIL.Image.Image image mode=RGB size=560x425>,\n  <PIL.Image.Image image mode=RGB size=560x425>,\n  <PIL.Image.Image image mode=RGB size=560x425>,\n  <PIL.Image.Image image mode=RGB size=560x425>,\n  <PIL.Image.Image image mode=RGB size=560x425>,\n  <PIL.Image.Image image mode=RGB size=560x425>,\n  <PIL.Image.Image image mode=RGB size=560x425>,\n  <PIL.Image.Image image mode=RGB size=560x425>,\n  <PIL.Image.Image image mode=RGB size=560x425>,\n  <PIL.Image.Image image mode=RGB size=560x425>,\n  <PIL.Image.Image image mode=RGB size=560x425>,\n  <PIL.Image.Image image mode=RGB size=560x425>,\n  <PIL.Image.Image image mode=RGB size=560x425>,\n  <PIL.Image.Image image mode=RGB size=560x425>,\n  <PIL.Image.Image image mode=RGB size=560x425>,\n  <PIL.Image.Image image mode=RGB size=560x425>,\n  <PIL.Image.Image image mode=RGB size=560x425>,\n  <PIL.Image.Image image mode=RGB size=560x425>,\n  <PIL.Image.Image image mode=RGB size=560x425>,\n  <PIL.Image.Image image mode=RGB size=560x425>,\n  <PIL.Image.Image image mode=RGB size=560x425>,\n  <PIL.Image.Image image mode=RGB size=560x425>,\n  <PIL.Image.Image image mode=RGB size=560x425>,\n  <PIL.Image.Image image mode=RGB size=560x425>,\n  <PIL.Image.Image image mode=RGB size=560x425>,\n  <PIL.Image.Image image mode=RGB size=560x425>,\n  <PIL.Image.Image image mode=RGB size=560x425>,\n  <PIL.Image.Image image mode=RGB size=560x425>,\n  <PIL.Image.Image image mode=RGB size=560x425>,\n  <PIL.Image.Image image mode=RGB size=560x425>,\n  <PIL.Image.Image image mode=RGB size=560x425>,\n  <PIL.Image.Image image mode=RGB size=560x425>,\n  <PIL.Image.Image image mode=RGB size=560x425>,\n  <PIL.Image.Image image mode=RGB size=560x425>,\n  <PIL.Image.Image image mode=RGB size=560x425>,\n  <PIL.Image.Image image mode=RGB size=560x425>,\n  <PIL.Image.Image image mode=RGB size=560x425>,\n  <PIL.Image.Image image mode=RGB size=560x425>,\n  <PIL.Image.Image image mode=RGB size=560x425>,\n  <PIL.Image.Image image mode=RGB size=560x425>,\n  <PIL.Image.Image image mode=RGB size=560x425>,\n  <PIL.Image.Image image mode=RGB size=560x425>,\n  <PIL.Image.Image image mode=RGB size=560x425>,\n  <PIL.Image.Image image mode=RGB size=560x425>,\n  <PIL.Image.Image image mode=RGB size=560x425>,\n  <PIL.Image.Image image mode=RGB size=560x425>,\n  <PIL.Image.Image image mode=RGB size=560x425>],\n 'input_ids': tensor([[ 101, 2054, 2003,  ...,    0,    0,    0],\n         [ 101, 2054, 2003,  ...,    0,    0,    0],\n         [ 101, 2054, 2003,  ...,    0,    0,    0],\n         ...,\n         [ 101, 2054, 2003,  ...,    0,    0,    0],\n         [ 101, 2054, 4874,  ...,    0,    0,    0],\n         [ 101, 2054, 2003,  ...,    0,    0,    0]]),\n 'attention_mask': tensor([[1, 1, 1,  ..., 0, 0, 0],\n         [1, 1, 1,  ..., 0, 0, 0],\n         [1, 1, 1,  ..., 0, 0, 0],\n         ...,\n         [1, 1, 1,  ..., 0, 0, 0],\n         [1, 1, 1,  ..., 0, 0, 0],\n         [1, 1, 1,  ..., 0, 0, 0]]),\n 'answer_label': tensor([ 29, 212, 211, 533, 126, 182, 110,  90,  49,  12, 580, 141, 153,  13,\n          22, 180, 212,  29,  52,   7,  63,  42,  14, 153, 126, 153,  16,  36,\n          31,  25, 149,  34, 126,  16,  12, 298,  42,  42, 159,  47,  94,  16,\n          49,  14, 247, 133,  22, 293,  90,  16, 219,  27,   2,  84, 110, 456,\n         110, 255,  47,  26, 469, 296, 200, 130])}"
     },
     "execution_count": 5,
     "metadata": {},
     "output_type": "execute_result"
    }
   ],
   "source": [
    "batch"
   ]
  },
  {
   "cell_type": "code",
   "execution_count": 6,
   "metadata": {
    "ExecuteTime": {
     "end_time": "2023-05-20T18:59:39.043410560Z",
     "start_time": "2023-05-20T18:59:39.003996975Z"
    }
   },
   "outputs": [
    {
     "data": {
      "text/plain": "583"
     },
     "execution_count": 6,
     "metadata": {},
     "output_type": "execute_result"
    }
   ],
   "source": [
    "len(answer_space)"
   ]
  },
  {
   "cell_type": "code",
   "execution_count": null,
   "outputs": [],
   "source": [],
   "metadata": {
    "collapsed": false
   }
  }
 ],
 "metadata": {
  "kernelspec": {
   "display_name": "Python 3 (ipykernel)",
   "language": "python",
   "name": "python3"
  },
  "language_info": {
   "codemirror_mode": {
    "name": "ipython",
    "version": 3
   },
   "file_extension": ".py",
   "mimetype": "text/x-python",
   "name": "python",
   "nbconvert_exporter": "python",
   "pygments_lexer": "ipython3",
   "version": "3.10.8"
  }
 },
 "nbformat": 4,
 "nbformat_minor": 1
}
