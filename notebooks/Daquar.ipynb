{
 "cells": [
  {
   "cell_type": "code",
   "execution_count": 17,
   "metadata": {
    "collapsed": true
   },
   "outputs": [
    {
     "data": {
      "text/plain": "                                            question  \\\n0  what is on the right side of the black telepho...   \n1  what is in front of the white door on the left...   \n2                                what is on the desk   \n3                  what is the largest brown objects   \n4  what color is the chair in front of the white ...   \n\n                                  answer image_id  \n0                                   desk   image3  \n1                              telephone   image3  \n2  book, scissor, papers, tape_dispenser   image3  \n3                                 carton   image3  \n4                                    red   image3  ",
      "text/html": "<div>\n<style scoped>\n    .dataframe tbody tr th:only-of-type {\n        vertical-align: middle;\n    }\n\n    .dataframe tbody tr th {\n        vertical-align: top;\n    }\n\n    .dataframe thead th {\n        text-align: right;\n    }\n</style>\n<table border=\"1\" class=\"dataframe\">\n  <thead>\n    <tr style=\"text-align: right;\">\n      <th></th>\n      <th>question</th>\n      <th>answer</th>\n      <th>image_id</th>\n    </tr>\n  </thead>\n  <tbody>\n    <tr>\n      <th>0</th>\n      <td>what is on the right side of the black telepho...</td>\n      <td>desk</td>\n      <td>image3</td>\n    </tr>\n    <tr>\n      <th>1</th>\n      <td>what is in front of the white door on the left...</td>\n      <td>telephone</td>\n      <td>image3</td>\n    </tr>\n    <tr>\n      <th>2</th>\n      <td>what is on the desk</td>\n      <td>book, scissor, papers, tape_dispenser</td>\n      <td>image3</td>\n    </tr>\n    <tr>\n      <th>3</th>\n      <td>what is the largest brown objects</td>\n      <td>carton</td>\n      <td>image3</td>\n    </tr>\n    <tr>\n      <th>4</th>\n      <td>what color is the chair in front of the white ...</td>\n      <td>red</td>\n      <td>image3</td>\n    </tr>\n  </tbody>\n</table>\n</div>"
     },
     "execution_count": 17,
     "metadata": {},
     "output_type": "execute_result"
    }
   ],
   "source": [
    "import pandas as pd\n",
    "\n",
    "\n",
    "DAQUAR_PATH = \"../data/daquar/data_train.csv\"\n",
    "\n",
    "daquar_train = pd.read_csv(DAQUAR_PATH)\n",
    "daquar_train.head()"
   ]
  },
  {
   "cell_type": "code",
   "execution_count": 18,
   "outputs": [
    {
     "data": {
      "text/plain": "question    6795\nanswer      6795\nimage_id    6795\ndtype: int64"
     },
     "execution_count": 18,
     "metadata": {},
     "output_type": "execute_result"
    }
   ],
   "source": [
    "daquar_train.count()"
   ],
   "metadata": {
    "collapsed": false
   }
  },
  {
   "cell_type": "code",
   "execution_count": 19,
   "outputs": [
    {
     "data": {
      "text/plain": "                                             question  \\\n2                                 what is on the desk   \n14  what is in front of the white board or in fron...   \n26  what are on the wall on the left side of the g...   \n72         what are the white objects on the mattress   \n74  what color is the hat on the top right of the ...   \n\n                                   answer image_id  \n2   book, scissor, papers, tape_dispenser   image3  \n14                           table, chair   image5  \n26                       clock, telephone   image8  \n72                        blanket, pillow  image73  \n74                           black, white  image80  ",
      "text/html": "<div>\n<style scoped>\n    .dataframe tbody tr th:only-of-type {\n        vertical-align: middle;\n    }\n\n    .dataframe tbody tr th {\n        vertical-align: top;\n    }\n\n    .dataframe thead th {\n        text-align: right;\n    }\n</style>\n<table border=\"1\" class=\"dataframe\">\n  <thead>\n    <tr style=\"text-align: right;\">\n      <th></th>\n      <th>question</th>\n      <th>answer</th>\n      <th>image_id</th>\n    </tr>\n  </thead>\n  <tbody>\n    <tr>\n      <th>2</th>\n      <td>what is on the desk</td>\n      <td>book, scissor, papers, tape_dispenser</td>\n      <td>image3</td>\n    </tr>\n    <tr>\n      <th>14</th>\n      <td>what is in front of the white board or in fron...</td>\n      <td>table, chair</td>\n      <td>image5</td>\n    </tr>\n    <tr>\n      <th>26</th>\n      <td>what are on the wall on the left side of the g...</td>\n      <td>clock, telephone</td>\n      <td>image8</td>\n    </tr>\n    <tr>\n      <th>72</th>\n      <td>what are the white objects on the mattress</td>\n      <td>blanket, pillow</td>\n      <td>image73</td>\n    </tr>\n    <tr>\n      <th>74</th>\n      <td>what color is the hat on the top right of the ...</td>\n      <td>black, white</td>\n      <td>image80</td>\n    </tr>\n  </tbody>\n</table>\n</div>"
     },
     "execution_count": 19,
     "metadata": {},
     "output_type": "execute_result"
    }
   ],
   "source": [
    "multiple_answers = daquar_train[daquar_train[\"answer\"].str.contains(\",\")]\n",
    "multiple_answers.head()"
   ],
   "metadata": {
    "collapsed": false
   }
  },
  {
   "cell_type": "code",
   "execution_count": 20,
   "outputs": [
    {
     "data": {
      "text/plain": "question    646\nanswer      646\nimage_id    646\ndtype: int64"
     },
     "execution_count": 20,
     "metadata": {},
     "output_type": "execute_result"
    }
   ],
   "source": [
    "multiple_answers.count()"
   ],
   "metadata": {
    "collapsed": false
   }
  },
  {
   "cell_type": "code",
   "execution_count": 21,
   "outputs": [
    {
     "data": {
      "text/plain": "                                            question  \\\n0  what is on the right side of the black telepho...   \n1  what is in front of the white door on the left...   \n2                                what is on the desk   \n2                                what is on the desk   \n2                                what is on the desk   \n\n                                  answer image_id  \n0                                   desk   image3  \n1                              telephone   image3  \n2  book, scissor, papers, tape_dispenser   image3  \n2  book, scissor, papers, tape_dispenser   image3  \n2  book, scissor, papers, tape_dispenser   image3  ",
      "text/html": "<div>\n<style scoped>\n    .dataframe tbody tr th:only-of-type {\n        vertical-align: middle;\n    }\n\n    .dataframe tbody tr th {\n        vertical-align: top;\n    }\n\n    .dataframe thead th {\n        text-align: right;\n    }\n</style>\n<table border=\"1\" class=\"dataframe\">\n  <thead>\n    <tr style=\"text-align: right;\">\n      <th></th>\n      <th>question</th>\n      <th>answer</th>\n      <th>image_id</th>\n    </tr>\n  </thead>\n  <tbody>\n    <tr>\n      <th>0</th>\n      <td>what is on the right side of the black telepho...</td>\n      <td>desk</td>\n      <td>image3</td>\n    </tr>\n    <tr>\n      <th>1</th>\n      <td>what is in front of the white door on the left...</td>\n      <td>telephone</td>\n      <td>image3</td>\n    </tr>\n    <tr>\n      <th>2</th>\n      <td>what is on the desk</td>\n      <td>book, scissor, papers, tape_dispenser</td>\n      <td>image3</td>\n    </tr>\n    <tr>\n      <th>2</th>\n      <td>what is on the desk</td>\n      <td>book, scissor, papers, tape_dispenser</td>\n      <td>image3</td>\n    </tr>\n    <tr>\n      <th>2</th>\n      <td>what is on the desk</td>\n      <td>book, scissor, papers, tape_dispenser</td>\n      <td>image3</td>\n    </tr>\n  </tbody>\n</table>\n</div>"
     },
     "execution_count": 21,
     "metadata": {},
     "output_type": "execute_result"
    }
   ],
   "source": [
    "new_df = daquar_train.iloc[daquar_train.index.repeat(daquar_train[\"answer\"].str.count(\",\") + 1)]\n",
    "new_df.head()"
   ],
   "metadata": {
    "collapsed": false
   }
  },
  {
   "cell_type": "code",
   "execution_count": 22,
   "outputs": [
    {
     "data": {
      "text/plain": "0             desk\n1        telephone\n2             book\n2          scissor\n2           papers\n           ...    \n6791        window\n6792       cabinet\n6793    candelabra\n6793          book\n6794         chair\nName: answer, Length: 7768, dtype: object"
     },
     "execution_count": 22,
     "metadata": {},
     "output_type": "execute_result"
    }
   ],
   "source": [
    "split_answer = daquar_train[\"answer\"].str.split(\",\", expand=True).stack().reset_index(level=1, drop=True).rename(\"answer\")\n",
    "split_answer"
   ],
   "metadata": {
    "collapsed": false
   }
  },
  {
   "cell_type": "code",
   "execution_count": 25,
   "outputs": [
    {
     "name": "stderr",
     "output_type": "stream",
     "text": [
      "/tmp/ipykernel_27282/1585816665.py:1: SettingWithCopyWarning: \n",
      "A value is trying to be set on a copy of a slice from a DataFrame.\n",
      "Try using .loc[row_indexer,col_indexer] = value instead\n",
      "\n",
      "See the caveats in the documentation: https://pandas.pydata.org/pandas-docs/stable/user_guide/indexing.html#returning-a-view-versus-a-copy\n",
      "  new_df.loc[:, \"answer\"] = split_answer.str.strip()\n"
     ]
    },
    {
     "data": {
      "text/plain": "                                            question     answer image_id\n0  what is on the right side of the black telepho...       desk   image3\n1  what is in front of the white door on the left...  telephone   image3\n2                                what is on the desk       book   image3\n3                                what is on the desk    scissor   image3\n4                                what is on the desk     papers   image3",
      "text/html": "<div>\n<style scoped>\n    .dataframe tbody tr th:only-of-type {\n        vertical-align: middle;\n    }\n\n    .dataframe tbody tr th {\n        vertical-align: top;\n    }\n\n    .dataframe thead th {\n        text-align: right;\n    }\n</style>\n<table border=\"1\" class=\"dataframe\">\n  <thead>\n    <tr style=\"text-align: right;\">\n      <th></th>\n      <th>question</th>\n      <th>answer</th>\n      <th>image_id</th>\n    </tr>\n  </thead>\n  <tbody>\n    <tr>\n      <th>0</th>\n      <td>what is on the right side of the black telepho...</td>\n      <td>desk</td>\n      <td>image3</td>\n    </tr>\n    <tr>\n      <th>1</th>\n      <td>what is in front of the white door on the left...</td>\n      <td>telephone</td>\n      <td>image3</td>\n    </tr>\n    <tr>\n      <th>2</th>\n      <td>what is on the desk</td>\n      <td>book</td>\n      <td>image3</td>\n    </tr>\n    <tr>\n      <th>3</th>\n      <td>what is on the desk</td>\n      <td>scissor</td>\n      <td>image3</td>\n    </tr>\n    <tr>\n      <th>4</th>\n      <td>what is on the desk</td>\n      <td>papers</td>\n      <td>image3</td>\n    </tr>\n  </tbody>\n</table>\n</div>"
     },
     "execution_count": 25,
     "metadata": {},
     "output_type": "execute_result"
    }
   ],
   "source": [
    "new_df.loc[:, \"answer\"] = split_answer.str.strip()\n",
    "new_df.reset_index(drop=True, inplace=True)\n",
    "new_df.head()"
   ],
   "metadata": {
    "collapsed": false
   }
  },
  {
   "cell_type": "code",
   "execution_count": 7,
   "outputs": [
    {
     "name": "stdout",
     "output_type": "stream",
     "text": [
      "Downloading and preparing dataset csv/default to /home/vlad/.cache/huggingface/datasets/csv/default-fed78077b355237e/0.0.0/6b34fb8fcf56f7c8ba51dc895bfa2bfbe43546f190a60fcf74bb5e8afdcc2317...\n"
     ]
    },
    {
     "data": {
      "text/plain": "Downloading data files:   0%|          | 0/2 [00:00<?, ?it/s]",
      "application/vnd.jupyter.widget-view+json": {
       "version_major": 2,
       "version_minor": 0,
       "model_id": "6f9d3e0a02da4bd3b76232489ec6aaf0"
      }
     },
     "metadata": {},
     "output_type": "display_data"
    },
    {
     "data": {
      "text/plain": "Extracting data files:   0%|          | 0/2 [00:00<?, ?it/s]",
      "application/vnd.jupyter.widget-view+json": {
       "version_major": 2,
       "version_minor": 0,
       "model_id": "a3aa30b79be349c58c725ac2b61c3507"
      }
     },
     "metadata": {},
     "output_type": "display_data"
    },
    {
     "data": {
      "text/plain": "Generating train split: 0 examples [00:00, ? examples/s]",
      "application/vnd.jupyter.widget-view+json": {
       "version_major": 2,
       "version_minor": 0,
       "model_id": "b011187831ad4819a721fb69877f906d"
      }
     },
     "metadata": {},
     "output_type": "display_data"
    },
    {
     "name": "stderr",
     "output_type": "stream",
     "text": [
      "/home/vlad/.pyenv/versions/vqa/lib/python3.10/site-packages/datasets/download/streaming_download_manager.py:776: FutureWarning: the 'mangle_dupe_cols' keyword is deprecated and will be removed in a future version. Please take steps to stop the use of 'mangle_dupe_cols'\n",
      "  return pd.read_csv(xopen(filepath_or_buffer, \"rb\", use_auth_token=use_auth_token), **kwargs)\n"
     ]
    },
    {
     "data": {
      "text/plain": "Generating validation split: 0 examples [00:00, ? examples/s]",
      "application/vnd.jupyter.widget-view+json": {
       "version_major": 2,
       "version_minor": 0,
       "model_id": "28afd3af308849ca9c47617aaf63a4ff"
      }
     },
     "metadata": {},
     "output_type": "display_data"
    },
    {
     "name": "stdout",
     "output_type": "stream",
     "text": [
      "Dataset csv downloaded and prepared to /home/vlad/.cache/huggingface/datasets/csv/default-fed78077b355237e/0.0.0/6b34fb8fcf56f7c8ba51dc895bfa2bfbe43546f190a60fcf74bb5e8afdcc2317. Subsequent calls will reuse this data.\n"
     ]
    },
    {
     "name": "stderr",
     "output_type": "stream",
     "text": [
      "/home/vlad/.pyenv/versions/vqa/lib/python3.10/site-packages/datasets/download/streaming_download_manager.py:776: FutureWarning: the 'mangle_dupe_cols' keyword is deprecated and will be removed in a future version. Please take steps to stop the use of 'mangle_dupe_cols'\n",
      "  return pd.read_csv(xopen(filepath_or_buffer, \"rb\", use_auth_token=use_auth_token), **kwargs)\n"
     ]
    },
    {
     "data": {
      "text/plain": "  0%|          | 0/2 [00:00<?, ?it/s]",
      "application/vnd.jupyter.widget-view+json": {
       "version_major": 2,
       "version_minor": 0,
       "model_id": "9292f8801a644a0ca189a34aaac065a3"
      }
     },
     "metadata": {},
     "output_type": "display_data"
    },
    {
     "data": {
      "text/plain": "DatasetDict({\n    train: Dataset({\n        features: ['question', 'answer', 'image_id'],\n        num_rows: 7768\n    })\n    validation: Dataset({\n        features: ['question', 'answer', 'image_id'],\n        num_rows: 6562\n    })\n})"
     },
     "execution_count": 7,
     "metadata": {},
     "output_type": "execute_result"
    }
   ],
   "source": [
    "from pathlib import Path\n",
    "from datasets import load_dataset\n",
    "\n",
    "PROCESSED_DAQUAR_PATH = Path(\"../data/processed/daquar\")\n",
    "\n",
    "daquar_dataset = load_dataset(\n",
    "        \"csv\",\n",
    "        data_files={\n",
    "            \"train\": str(PROCESSED_DAQUAR_PATH / \"daquar_train_flattened.csv\"),\n",
    "            \"validation\": str(PROCESSED_DAQUAR_PATH / \"daquar_eval_flattened.csv\"),\n",
    "        },\n",
    "    )\n",
    "daquar_dataset"
   ],
   "metadata": {
    "collapsed": false
   }
  },
  {
   "cell_type": "code",
   "execution_count": 8,
   "outputs": [
    {
     "data": {
      "text/plain": "{'question': ['what is on the right side of the black telephone and on the left side of the red chair',\n  'what is in front of the white door on the left side of the desk',\n  'what is on the desk',\n  'what is on the desk',\n  'what is on the desk',\n  'what is on the desk',\n  'what is the largest brown objects',\n  'what color is the chair in front of the white wall',\n  'what is on the right side of the notebook on the desk',\n  'what is on the right and left and in front of the papers on the desk'],\n 'answer': ['desk',\n  'telephone',\n  'book',\n  'scissor',\n  'papers',\n  'tape_dispenser',\n  'carton',\n  'red',\n  'plastic_cup_of_coffee',\n  'notebook'],\n 'image_id': ['image3',\n  'image3',\n  'image3',\n  'image3',\n  'image3',\n  'image3',\n  'image3',\n  'image3',\n  'image4',\n  'image4']}"
     },
     "execution_count": 8,
     "metadata": {},
     "output_type": "execute_result"
    }
   ],
   "source": [
    "daquar_dataset[\"train\"][:10]"
   ],
   "metadata": {
    "collapsed": false
   }
  },
  {
   "cell_type": "code",
   "execution_count": null,
   "outputs": [],
   "source": [],
   "metadata": {
    "collapsed": false
   }
  }
 ],
 "metadata": {
  "kernelspec": {
   "display_name": "Python 3",
   "language": "python",
   "name": "python3"
  },
  "language_info": {
   "codemirror_mode": {
    "name": "ipython",
    "version": 2
   },
   "file_extension": ".py",
   "mimetype": "text/x-python",
   "name": "python",
   "nbconvert_exporter": "python",
   "pygments_lexer": "ipython2",
   "version": "2.7.6"
  }
 },
 "nbformat": 4,
 "nbformat_minor": 0
}
